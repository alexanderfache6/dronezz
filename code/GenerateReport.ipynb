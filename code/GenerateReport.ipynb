{
 "cells": [
  {
   "cell_type": "markdown",
   "metadata": {},
   "source": [
    "# Imports"
   ]
  },
  {
   "cell_type": "code",
   "execution_count": null,
   "metadata": {},
   "outputs": [],
   "source": [
    "from fpdf import FPDF"
   ]
  },
  {
   "cell_type": "markdown",
   "metadata": {},
   "source": [
    "# Helper Functions"
   ]
  },
  {
   "cell_type": "code",
   "execution_count": null,
   "metadata": {},
   "outputs": [],
   "source": [
    "class PDF(FPDF):\n",
    "    def footer(self): # overwrite, automatically called by add_page()\n",
    "        self.set_y(-30)\n",
    "        self.set_font('Arial', '', 8)\n",
    "        self.cell(0, 10, 'Dronezz - %s' % self.page_no(), 0, 0, 'R')\n",
    "\n",
    "    def display_header(self, text='', align='L'):\n",
    "        self.set_font('Arial', 'B', 12)\n",
    "        self.cell(w=0, h=24, txt=text, border=0, ln=1, align=align, fill=False)\n",
    "\n",
    "    def display_text(self, text='', align='L'):\n",
    "        self.set_font('Arial', '', 8)\n",
    "        self.multi_cell(w=0, h=16, txt=text, border=0, align=align, fill=False)"
   ]
  },
  {
   "cell_type": "markdown",
   "metadata": {},
   "source": [
    "# Generate Report"
   ]
  },
  {
   "cell_type": "code",
   "execution_count": null,
   "metadata": {},
   "outputs": [],
   "source": [
    "def generate_report(directory='..\\\\report_images\\\\', file_name='auto_generated_report.pdf'):\n",
    "    \n",
    "    pdf = PDF(orientation='Portrait', unit='pt', format='Letter')\n",
    "    pdf.add_page()\n",
    "\n",
    "    # ----------------------------------------\n",
    "\n",
    "    pdf.set_font('Arial', 'B', 24)\n",
    "    text = 'Dronezz'\n",
    "    pdf.cell(w=0, h=30, txt=text, border=0, ln=1, align='C', fill=False)\n",
    "\n",
    "    pdf.set_font('Arial', 'B', 16)\n",
    "    text = 'description'\n",
    "    pdf.cell(w=0, h=30, txt=text, border=0, ln=1, align='C', fill=False)\n",
    "\n",
    "    text = 'Alex Faché, Mason Heim, Josh Moore, Kyle Turner\\nGeorgia Institute of Technology - School of Electrical and Computer Engineering\\nECE 4011 Spring 2020, ECE 4873 Fall 2020'\n",
    "    pdf.display_text(text, align='C')\n",
    "\n",
    "    # ----------------------------------------\n",
    "\n",
    "    text = 'Data'\n",
    "    pdf.display_header(text)\n",
    "\n",
    "    text = 'The images for this project were collected using a commerical Parrot Anafi quadcopter, utilizing the onboard color camera and Pix4Dcapture missiong planning. Each image was taken at an ' \\\n",
    "        'altitude of 40m resulting in a ground resultion of 1.34 cm/pixel. The area in question spans 79x82m resulting in 54 overlapping images that were combined to form a single image using Pix4Dmapper.'\n",
    "    pdf.display_text(text)\n",
    "\n",
    "    # ----------------------------------------\n",
    "\n",
    "    text = 'Histogram Normalized'\n",
    "    pdf.display_header(text)\n",
    "\n",
    "    text = 'Histogram normalization was applied to best remove the variation in brightness due to the Sun and clouds. Mission 2 was used as the reference mission for each normalization.'\n",
    "    pdf.display_text(text)\n",
    "\n",
    "    # ----------------------------------------\n",
    "\n",
    "    pdf.add_page()\n",
    "\n",
    "    text = 'Bounding Boxes'\n",
    "    pdf.display_header(text)\n",
    "\n",
    "    text = 'text'\n",
    "    pdf.display_text(text)\n",
    "\n",
    "    # ----------------------------------------\n",
    "\n",
    "    text = 'Anomaly Detection'\n",
    "    pdf.display_header(text)\n",
    "\n",
    "    text = 'text'\n",
    "    pdf.display_text(text)\n",
    "\n",
    "    # ----------------------------------------\n",
    "\n",
    "    text = 'Heatmaps'\n",
    "    pdf.display_header(text)\n",
    "\n",
    "    text = 'text'\n",
    "    pdf.display_text(text)\n",
    "\n",
    "    # ----------------------------------------\n",
    "\n",
    "    text = 'Results'\n",
    "    pdf.display_header(text)\n",
    "\n",
    "    text = 'text'\n",
    "    pdf.display_text(text)\n",
    "    \n",
    "    # ----------------------------------------\n",
    "\n",
    "    print('Saved as:', file_name)\n",
    "    pdf.output(file_name, 'F')"
   ]
  },
  {
   "cell_type": "code",
   "execution_count": null,
   "metadata": {},
   "outputs": [],
   "source": [
    "# generate_report()"
   ]
  }
 ],
 "metadata": {
  "kernelspec": {
   "display_name": "Python 3",
   "language": "python",
   "name": "python3"
  },
  "language_info": {
   "codemirror_mode": {
    "name": "ipython",
    "version": 3
   },
   "file_extension": ".py",
   "mimetype": "text/x-python",
   "name": "python",
   "nbconvert_exporter": "python",
   "pygments_lexer": "ipython3",
   "version": "3.6.8"
  }
 },
 "nbformat": 4,
 "nbformat_minor": 2
}

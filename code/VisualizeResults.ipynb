{
 "cells": [
  {
   "cell_type": "markdown",
   "metadata": {},
   "source": [
    "# Imports"
   ]
  },
  {
   "cell_type": "code",
   "execution_count": null,
   "metadata": {},
   "outputs": [],
   "source": [
    "import import_ipynb\n",
    "import AlexFunctions as AF\n",
    "\n",
    "import cv2\n",
    "import numpy as np"
   ]
  },
  {
   "cell_type": "markdown",
   "metadata": {},
   "source": [
    "# Visualize Results"
   ]
  },
  {
   "cell_type": "code",
   "execution_count": null,
   "metadata": {},
   "outputs": [],
   "source": [
    "def compute_results(mission_numbers, bboxs, heatmaps, percent_heatmap_buckets, roof_masks, percent_roof_pixels, debug_images=False):\n",
    "    \n",
    "    # ----------------------------------------\n",
    "    \n",
    "    # superimpose all bounding boxes onto mission\n",
    "    # TODO\n",
    "    superimposed_bbox_masks = []\n",
    "#     for i in range(0, len(bboxs)):\n",
    "    \n",
    "#     if debug_images:\n",
    "#         AF.plot_images(superimposed_bbox_masks, ['superimposed_bbox_masks ' + str(mission_number) for mission_number in mission_numbers])\n",
    "    \n",
    "    # ----------------------------------------\n",
    "    \n",
    "    # X\n",
    "    # combine heatmap and roof mask into single image\n",
    "    heatmap_roof_combined_images = []\n",
    "    for i in range(0, len(mission_numbers)):\n",
    "        heatmap_roof_combined_images.append(cv2.bitwise_or(heatmaps[i], roof_masks[i]).astype(np.uint8))\n",
    "    \n",
    "    if debug_images:\n",
    "        AF.plot_images(heatmap_roof_combined_images, ['heatmap_roof_combined_images ' + str(mission_number) for mission_number in mission_numbers])\n",
    "    \n",
    "    # ----------------------------------------\n",
    "    \n",
    "    # table of metadata or plots\n",
    "    metadata = []\n",
    "    for i in range(0, len(mission_numbers)):\n",
    "        data = dict()\n",
    "#         data['num_anomalies'] =  # TODO - from superimposed_bbox_masks\n",
    "        data['percent_roof_anomalies'] = percent_roof_pixels[i]\n",
    "        \n",
    "#         heatmap_data = []\n",
    "#         num_non_black_pixels = np.sum(heatmaps[i] != [0, 0, 0])\n",
    "#         for c in heatmap_colors:\n",
    "#             heatmap_data.append(np.sum(heatmaps[i] == c) / num_non_black_pixels * 100)\n",
    "        data['heatmap_buckets'] = percent_heatmap_buckets[i]\n",
    "\n",
    "        metadata.append(data)\n",
    "    \n",
    "    # ----------------------------------------\n",
    "    \n",
    "    return superimposed_bbox_masks, heatmap_roof_combined_images, metadata"
   ]
  },
  {
   "cell_type": "code",
   "execution_count": null,
   "metadata": {},
   "outputs": [],
   "source": [
    "def display_results(mission_numbers, superimposed_bbox_masks, histogram_mission_images_bgr, heatmap_roof_combined_images, metadata):\n",
    "    # TODO\n",
    "    # display superimposed bounding boxes on histogram_mission_images_bgr\n",
    "    # display combined heatmap and roof mask\n",
    "    # scatter plot of percent roof pixels & number of anomalies vs mission number\n",
    "    # histogram of heatmap\n",
    "    \n",
    "    print('display_results')\n",
    "#     print(metadata)\n",
    "    \n",
    "#     AF.plot_images(histogram_mission_images_bgr, ['superimposed_bbox_masks ' + str(mission_number) for mission_number in mission_numbers])\n",
    "    AF.plot_images(heatmap_roof_combined_images, ['heatmap_roof_combined_images ' + str(mission_number) for mission_number in mission_numbers])\n",
    "    \n",
    "    barchart_data = [metadata[i]['heatmap_buckets'] for i in range(0, len(mission_numbers))]\n",
    "    AF.plot_images(barchart_data, title_list=['Mission ' + str(mission_number) for mission_number in mission_numbers], is_barchart=True, grid='on')\n",
    "    \n",
    "#     return superimposed_bbox_images, heatmap_roof_combined_images, heatmap_histograms"
   ]
  },
  {
   "cell_type": "code",
   "execution_count": null,
   "metadata": {},
   "outputs": [],
   "source": [
    "def run_visualize_results(mission_numbers, bboxs, histogram_mission_images_bgr, heatmaps, percent_heatmap_buckets, roof_masks, percent_roof_pixels, debug_images=False):\n",
    "    superimposed_bbox_masks, heatmap_roof_combinations, metadata = compute_results(mission_numbers, bboxs, heatmaps, percent_heatmap_buckets, roof_masks, percent_roof_pixels, debug_images)\n",
    "    display_results(mission_numbers, superimposed_bbox_masks, histogram_mission_images_bgr, heatmap_roof_combinations, metadata)"
   ]
  },
  {
   "cell_type": "markdown",
   "metadata": {},
   "source": [
    "# Usage"
   ]
  },
  {
   "cell_type": "code",
   "execution_count": null,
   "metadata": {},
   "outputs": [],
   "source": [
    "# run_visualize_results(mission_numbers, histogram_mission_images_bgr, bboxs, heatmaps, roof_masks, percent_roof_pixels, debug_images)"
   ]
  }
 ],
 "metadata": {
  "kernelspec": {
   "display_name": "Python 3",
   "language": "python",
   "name": "python3"
  },
  "language_info": {
   "codemirror_mode": {
    "name": "ipython",
    "version": 3
   },
   "file_extension": ".py",
   "mimetype": "text/x-python",
   "name": "python",
   "nbconvert_exporter": "python",
   "pygments_lexer": "ipython3",
   "version": "3.6.8"
  }
 },
 "nbformat": 4,
 "nbformat_minor": 2
}

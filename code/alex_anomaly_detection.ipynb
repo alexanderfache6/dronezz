{
 "cells": [
  {
   "cell_type": "markdown",
   "metadata": {},
   "source": [
    "# References"
   ]
  },
  {
   "cell_type": "markdown",
   "metadata": {},
   "source": [
    "- https://www.sciencedirect.com/science/article/pii/S1110016811000421#!\n",
    "- https://salman-h-khan.github.io/papers/TPAMI15.pdf\n",
    "- https://link.springer.com/chapter/10.1007/978-3-319-21978-3_52\n",
    "- https://ieeexplore.ieee.org/abstract/document/5196726/metrics#metrics\n",
    "- https://www.sciencedirect.com/science/article/pii/S2214241X15001789\n",
    "\n",
    "- https://ieeexplore.ieee.org/document/7009877?reload=true&arnumber=7009877"
   ]
  },
  {
   "cell_type": "markdown",
   "metadata": {},
   "source": [
    "# Parameters"
   ]
  },
  {
   "cell_type": "code",
   "execution_count": null,
   "metadata": {},
   "outputs": [],
   "source": [
    "REGION_NAMES = ['GRASS', 'SIDEWALK', 'BUILDING', 'GRAVEL']\n",
    "\n",
    "# don't change\n",
    "REFERENCE_MISSION = 2"
   ]
  },
  {
   "cell_type": "markdown",
   "metadata": {},
   "source": [
    "# Imports and Functions"
   ]
  },
  {
   "cell_type": "code",
   "execution_count": null,
   "metadata": {},
   "outputs": [],
   "source": [
    "import copy\n",
    "import cv2\n",
    "import matplotlib.pyplot as plt\n",
    "import numpy as np\n",
    "import os\n",
    "from skimage import exposure\n",
    "from skimage.morphology import area_opening, disk, square\n",
    "import sys"
   ]
  },
  {
   "cell_type": "code",
   "execution_count": null,
   "metadata": {},
   "outputs": [],
   "source": [
    "# sys.path.insert(0, '.py')"
   ]
  },
  {
   "cell_type": "code",
   "execution_count": null,
   "metadata": {},
   "outputs": [],
   "source": [
    "def plot_images(image_list, title_list=[], grid='off', size_per_image=10):\n",
    "    fig, axes = plt.subplots(nrows=1, ncols=len(image_list), figsize=(size_per_image*len(image_list), size_per_image*1))\n",
    "    if len(image_list) == 1:\n",
    "        axes = [axes]\n",
    "\n",
    "    for i, ax in enumerate(axes):\n",
    "        ax.imshow(cv2.cvtColor(image_list[i], cv2.COLOR_BGR2RGB))\n",
    "        if len(title_list) > 0:\n",
    "            ax.set_title(title_list[i])\n",
    "        ax.axis(grid)"
   ]
  },
  {
   "cell_type": "code",
   "execution_count": null,
   "metadata": {},
   "outputs": [],
   "source": [
    "def plot_mission_region_sample_images(mission_numbers, mission_images=[], region_images=[], sample_images=[], display_missions=True, display_regions=True, display_samples=True):\n",
    "    if display_missions:\n",
    "        if len(mission_images) > 0:\n",
    "            print('Displaying missions')\n",
    "            plot_images(mission_images, ['Mission ' + str(mission_number) for mission_number in mission_numbers])\n",
    "        else:\n",
    "            print('[Error] No mission images available to display')\n",
    "    \n",
    "    if display_regions:\n",
    "        if len(region_images) > 0:\n",
    "            print('Displaying regions')\n",
    "            plot_images(region_images, ['Region ' + str(mission_number) for mission_number in mission_numbers])\n",
    "        else:\n",
    "            print('[Error] No region images available to display')\n",
    "    \n",
    "    if display_samples:\n",
    "        if len(sample_images) > 0:\n",
    "            print('Displaying samples')\n",
    "            plot_images(sample_images, ['Sample ' + str(mission_number) for mission_number in mission_numbers])\n",
    "        else:\n",
    "            print('[Error] No sample images available to display')"
   ]
  },
  {
   "cell_type": "code",
   "execution_count": null,
   "metadata": {},
   "outputs": [],
   "source": [
    "def get_mission_file_path(mission_number):\n",
    "    return '..\\\\missions\\\\mission_' + str(mission_number) + '\\\\mission_' + str(mission_number) + '_'"
   ]
  },
  {
   "cell_type": "code",
   "execution_count": null,
   "metadata": {},
   "outputs": [],
   "source": [
    "def get_global_image(mission_number, get_normalized=True):\n",
    "    if get_normalized:\n",
    "        mission = np.load(get_mission_file_path(mission_number) + 'normalized_image.npy')\n",
    "    else:\n",
    "        mission = np.load(get_mission_file_path(mission_number) + 'aligned_image.npy')\n",
    "    \n",
    "    return mission"
   ]
  },
  {
   "cell_type": "code",
   "execution_count": null,
   "metadata": {},
   "outputs": [],
   "source": [
    "def get_region_and_sample_image(mission_number, region_name, get_normalized=True):\n",
    "    if get_normalized:\n",
    "        region = np.load(get_mission_file_path(mission_number) + 'normalized_region_image_' + region_name + '.npy')\n",
    "        sample = np.load(get_mission_file_path(mission_number) + 'normalized_sample_image_' + region_name + '.npy')\n",
    "    else:\n",
    "        region = np.load(get_mission_file_path(mission_number) + 'aligned_region_image_' + region_name + '.npy')\n",
    "        sample = np.load(get_mission_file_path(mission_number) + 'aligned_sample_image_' + region_name + '.npy')\n",
    "    \n",
    "    return region, sample"
   ]
  },
  {
   "cell_type": "markdown",
   "metadata": {},
   "source": [
    "# Output Functions"
   ]
  },
  {
   "cell_type": "code",
   "execution_count": null,
   "metadata": {},
   "outputs": [],
   "source": [
    "from skimage.measure import label, regionprops\n",
    "\n",
    "def create_bounding_boxes(masks, output_images, display_bbox=True, display_output=True, num_bbox_iterations=1, bbox_color=(255, 0, 0)):\n",
    "\n",
    "    temp = copy.deepcopy(masks)\n",
    "    temp_bounding_box_masks = []\n",
    "\n",
    "    num_bbox = []\n",
    "    \n",
    "    for k in range(0, num_bbox_iterations):\n",
    "        print('Iter:', k)\n",
    "        bounding_box_masks = []\n",
    "\n",
    "        for i in range(0, len(temp)):\n",
    "            label_ = label(temp[i])\n",
    "            props_ = regionprops(label_)\n",
    "            bounding_mask = np.zeros((temp[i].shape)).astype(np.uint8)\n",
    "\n",
    "            print('# bbox:', len(props_))\n",
    "            if k == num_bbox_iterations-1:\n",
    "                num_bbox.append(len(props_))\n",
    "\n",
    "            factor = 0\n",
    "            for prop in props_:\n",
    "        #         print('bbox', prop.bbox)\n",
    "                if k == num_bbox_iterations-1:\n",
    "                    cv2.rectangle(bounding_mask, (prop.bbox[1], prop.bbox[0]), (prop.bbox[3], prop.bbox[2]), (255, 0, 0), 2)\n",
    "                else:\n",
    "                    cv2.rectangle(bounding_mask, (prop.bbox[1]-factor, prop.bbox[0]-factor), (prop.bbox[3]+2*factor, prop.bbox[2]+2*factor), bbox_color, 2)\n",
    "\n",
    "            bounding_box_masks.append(bounding_mask)\n",
    "\n",
    "        temp_bounding_box_masks.append(copy.deepcopy(bounding_box_masks))\n",
    "        temp = copy.deepcopy(bounding_box_masks)\n",
    "    \n",
    "    if display_bbox:\n",
    "        for k in range(0, num_bbox_iterations):\n",
    "            plot_images(temp_bounding_box_masks[k], ['bounding_box_masks ' + str(mission_number) for mission_number in mission_numbers])\n",
    "    \n",
    "    results = []\n",
    "    for i in range(0, len(mission_numbers)):\n",
    "        result = copy.deepcopy(output_images[i])\n",
    "        result[temp_bounding_box_masks[num_bbox_iterations-1][i].astype(bool), :] = [0, 0, 255]\n",
    "        results.append(result)\n",
    "        \n",
    "    if display_output:\n",
    "        # differences wrt mission 2\n",
    "        for i in range(0, len(mission_numbers)):\n",
    "            plot_images([histogram_mission_images_bgr[0], results[i]], ['reference', 'result ' + str(mission_numbers[i])], size_per_image=3)\n",
    "            \n",
    "    return bounding_box_masks, num_bbox, results"
   ]
  },
  {
   "cell_type": "code",
   "execution_count": null,
   "metadata": {},
   "outputs": [],
   "source": [
    "import matplotlib as mpl\n",
    "from PIL import ImageColor\n",
    "\n",
    "def color_fader(cs, mix=0):\n",
    "    if len(cs) == 2:\n",
    "        c1 = np.array(mpl.colors.to_rgb(cs[0]))\n",
    "        c2 = np.array(mpl.colors.to_rgb(cs[1]))\n",
    "        return mpl.colors.to_hex((1-mix)*c1 + mix*c2)\n",
    "    elif len(cs) == 3:\n",
    "        c1 = np.array(mpl.colors.to_rgb(cs[0]))\n",
    "        c2 = np.array(mpl.colors.to_rgb(cs[1]))\n",
    "        c3 = np.array(mpl.colors.to_rgb(cs[2]))\n",
    "        if mix <= .5:\n",
    "            mix *= 2 # create 0-1 range\n",
    "            return mpl.colors.to_hex((1-mix)*c1 + mix*c2)\n",
    "        else:\n",
    "            mix -= .5 # create 0-1 range\n",
    "            mix *= 2\n",
    "            return mpl.colors.to_hex((1-mix)*c2 + mix*c3)\n",
    "\n",
    "def create_color_buckets(colors=['#FF0000', '#00FF00'], num_buckets=10, display=True): #RGB\n",
    "    color_buckets = []\n",
    "\n",
    "    if display:\n",
    "        fig, ax = plt.subplots(figsize=(4, 2))\n",
    "    \n",
    "    for x in range(0, num_buckets):\n",
    "        X = color_fader(colors, x/(num_buckets-1))\n",
    "        \n",
    "        if display:\n",
    "            ax.axvline(x, color=X, linewidth=4)\n",
    "        \n",
    "        color_buckets.append(ImageColor.getcolor(X, \"RGB\")[::-1]) # convert RGB to BGR\n",
    "\n",
    "    if display:\n",
    "        plt.axis('off')\n",
    "        plt.show()\n",
    "\n",
    "    return color_buckets"
   ]
  },
  {
   "cell_type": "markdown",
   "metadata": {},
   "source": [
    "# Start"
   ]
  },
  {
   "cell_type": "code",
   "execution_count": null,
   "metadata": {},
   "outputs": [],
   "source": [
    "mission_numbers = [REFERENCE_MISSION, 3, 4, 5, 6, 8, 9, 10, 11, 12, 13, 14]\n",
    "region_type = 'BUILDING'\n",
    "get_normalized = False"
   ]
  },
  {
   "cell_type": "code",
   "execution_count": null,
   "metadata": {},
   "outputs": [],
   "source": [
    "mission_images_bgr = []\n",
    "region_images_bgr = []\n",
    "# sample_images = []\n",
    "\n",
    "for mission_number in mission_numbers:\n",
    "    if not os.path.isdir('..\\\\missions\\\\mission_' + str(mission_number)):\n",
    "        print('[Error] Mission %d directory has not been created' % (mission_number))\n",
    "        break\n",
    "    \n",
    "    mission_image = get_global_image(mission_number, get_normalized)\n",
    "    mission_images_bgr.append(mission_image)\n",
    "    \n",
    "    region_image, sample_image = get_region_and_sample_image(mission_number, region_type, get_normalized)\n",
    "    region_images_bgr.append(region_image)\n",
    "#     sample_images.append(sample_image)\n",
    "    \n",
    "# all lengths and dimensions should match\n",
    "print(mission_images_bgr[0].shape)\n",
    "print(region_images_bgr[0].shape)\n",
    "# print(sample_images[0].shape)\n",
    "print(len(mission_images_bgr))\n",
    "print(len(region_images_bgr))\n",
    "# print(len(sample_images))"
   ]
  },
  {
   "cell_type": "markdown",
   "metadata": {},
   "source": [
    "# Missions, Regions, Samples in BGR"
   ]
  },
  {
   "cell_type": "code",
   "execution_count": null,
   "metadata": {},
   "outputs": [],
   "source": [
    "plot_images(mission_images_bgr, ['mission_images_bgr ' + str(mission_number) for mission_number in mission_numbers])\n",
    "# plot_images(region_images_bgr, ['region_images_bgr ' + str(mission_number) for mission_number in mission_numbers])\n",
    "# plot_images(sample_images, ['sample_images ' + str(mission_number) for mission_number in mission_numbers])"
   ]
  },
  {
   "cell_type": "markdown",
   "metadata": {},
   "source": [
    "# Histogram Matching"
   ]
  },
  {
   "cell_type": "code",
   "execution_count": null,
   "metadata": {},
   "outputs": [],
   "source": [
    "# https://automaticaddison.com/how-to-do-histogram-matching-using-opencv/\n",
    "\n",
    "def calculate_cdf(histogram):\n",
    "    \"\"\"\n",
    "    This method calculates the cumulative distribution function\n",
    "    :param array histogram: The values of the histogram\n",
    "    :return: normalized_cdf: The normalized cumulative distribution function\n",
    "    :rtype: array\n",
    "    \"\"\"\n",
    "    # Get the cumulative sum of the elements\n",
    "    cdf = histogram.cumsum()\n",
    " \n",
    "    # Normalize the cdf\n",
    "    normalized_cdf = cdf / float(cdf.max())\n",
    " \n",
    "    return normalized_cdf\n",
    " \n",
    "def calculate_lookup(new_cdf, ref_cdf):\n",
    "    \"\"\"\n",
    "    This method creates the lookup table\n",
    "    :param array new_cdf: The cdf for the source image\n",
    "    :param array ref_cdf: The cdf for the reference image\n",
    "    :return: lookup_table: The lookup table\n",
    "    :rtype: array\n",
    "    \"\"\"\n",
    "    lookup_table = np.zeros(256)\n",
    "    lookup_val = 0\n",
    "    for new_pixel_val in range(len(new_cdf)):\n",
    "        lookup_val\n",
    "        for ref_pixel_val in range(len(ref_cdf)):\n",
    "            if ref_cdf[ref_pixel_val] >= new_cdf[new_pixel_val]:\n",
    "                lookup_val = ref_pixel_val\n",
    "                break\n",
    "        lookup_table[new_pixel_val] = lookup_val\n",
    "    return lookup_table\n",
    "\n",
    "def match_histograms(ref_image, new_image):\n",
    "    \"\"\"\n",
    "    This method matches the new image histogram to the\n",
    "    reference signal\n",
    "    :param image new_image: The original source image\n",
    "    :param image  ref_image: The reference image\n",
    "    :return: image_after_matching\n",
    "    :rtype: image (array)\n",
    "    \"\"\"\n",
    "    # Split the images into the different color channels\n",
    "    # b means blue, g means green and r means red\n",
    "    new_b, new_g, new_r = cv2.split(new_image)\n",
    "    ref_b, ref_g, ref_r = cv2.split(ref_image)\n",
    " \n",
    "    # Compute the b, g, and r histograms separately\n",
    "    # The flatten() Numpy method returns a copy of the array c\n",
    "    # collapsed into one dimension.\n",
    "    new_hist_blue, bin_0 = np.histogram(new_b.flatten(), 256, [0,256])\n",
    "    new_hist_green, bin_1 = np.histogram(new_g.flatten(), 256, [0,256])\n",
    "    new_hist_red, bin_2 = np.histogram(new_r.flatten(), 256, [0,256])    \n",
    "    ref_hist_blue, bin_3 = np.histogram(ref_b.flatten(), 256, [0,256])    \n",
    "    ref_hist_green, bin_4 = np.histogram(ref_g.flatten(), 256, [0,256])\n",
    "    ref_hist_red, bin_5 = np.histogram(ref_r.flatten(), 256, [0,256])\n",
    " \n",
    "    # Compute the normalized cdf for the source and reference image\n",
    "    new_cdf_blue = calculate_cdf(new_hist_blue)\n",
    "    new_cdf_green = calculate_cdf(new_hist_green)\n",
    "    new_cdf_red = calculate_cdf(new_hist_red)\n",
    "    ref_cdf_blue = calculate_cdf(ref_hist_blue)\n",
    "    ref_cdf_green = calculate_cdf(ref_hist_green)\n",
    "    ref_cdf_red = calculate_cdf(ref_hist_red)\n",
    " \n",
    "    # Make a separate lookup table for each color\n",
    "    blue_lookup_table = calculate_lookup(new_cdf_blue, ref_cdf_blue)\n",
    "    green_lookup_table = calculate_lookup(new_cdf_green, ref_cdf_green)\n",
    "    red_lookup_table = calculate_lookup(new_cdf_red, ref_cdf_red)\n",
    " \n",
    "    # Use the lookup function to transform the colors of the original\n",
    "    # source image\n",
    "    blue_after_transform = cv2.LUT(new_b, blue_lookup_table)\n",
    "    green_after_transform = cv2.LUT(new_g, green_lookup_table)\n",
    "    red_after_transform = cv2.LUT(new_r, red_lookup_table)\n",
    " \n",
    "    # Put the image back together\n",
    "    image_after_matching = cv2.merge([blue_after_transform, green_after_transform, red_after_transform])\n",
    "    image_after_matching = cv2.convertScaleAbs(image_after_matching)\n",
    " \n",
    "    return image_after_matching"
   ]
  },
  {
   "cell_type": "code",
   "execution_count": null,
   "metadata": {},
   "outputs": [],
   "source": [
    "histogram_mission_images_bgr = []\n",
    "histogram_region_images_bgr = []\n",
    "\n",
    "for i in range(0, len(mission_numbers)):\n",
    "    histogram_mission_images_bgr.append(match_histograms(mission_images_bgr[0], mission_images_bgr[i]))\n",
    "    histogram_region_images_bgr.append(match_histograms(region_images_bgr[0], region_images_bgr[i]))"
   ]
  },
  {
   "cell_type": "markdown",
   "metadata": {},
   "source": [
    "# Intensity Matching"
   ]
  },
  {
   "cell_type": "code",
   "execution_count": null,
   "metadata": {},
   "outputs": [],
   "source": [
    "# intensity_mission_images = []\n",
    "\n",
    "# for i in range(0, len(mission_numbers)):\n",
    "#     p1, p2 = np.percentile(mission_images[i], (5, 95))\n",
    "#     intensity_mission_images.append(exposure.rescale_intensity(mission_images[i], in_range=(p1, p2)))"
   ]
  },
  {
   "cell_type": "markdown",
   "metadata": {},
   "source": [
    "# Average Mission"
   ]
  },
  {
   "cell_type": "code",
   "execution_count": null,
   "metadata": {},
   "outputs": [],
   "source": [
    "# # take the average\n",
    "# def averager(images):\n",
    "#     A = np.sum(images, axis=0)\n",
    "#     A = A / len(images)\n",
    "#     A = A.astype(np.uint8)\n",
    "#     return A"
   ]
  },
  {
   "cell_type": "code",
   "execution_count": null,
   "metadata": {},
   "outputs": [],
   "source": [
    "# indices = [mission_numbers.index(n) for n in [2, 6, 8, 9]]\n",
    "# images = [histogram_mission_images_bgr[i] for i in indices]\n",
    "# average_mission_image_bgr = averager(images)"
   ]
  },
  {
   "cell_type": "code",
   "execution_count": null,
   "metadata": {},
   "outputs": [],
   "source": [
    "# plot_images([average_mission_image_bgr], ['average_mission_image_bgr'])"
   ]
  },
  {
   "cell_type": "markdown",
   "metadata": {},
   "source": [
    "# BGR Matching Comparison"
   ]
  },
  {
   "cell_type": "code",
   "execution_count": null,
   "metadata": {},
   "outputs": [],
   "source": [
    "plot_images(mission_images_bgr, ['mission_images_bgr ' + str(mission_number) for mission_number in mission_numbers])\n",
    "plot_images(histogram_mission_images_bgr, ['histogram_mission_images_bgr ' + str(mission_number) for mission_number in mission_numbers])"
   ]
  },
  {
   "cell_type": "markdown",
   "metadata": {},
   "source": [
    "# HSV"
   ]
  },
  {
   "cell_type": "code",
   "execution_count": null,
   "metadata": {},
   "outputs": [],
   "source": [
    "mission_images_hsv = []\n",
    "histogram_mission_images_hsv = []\n",
    "\n",
    "histogram_region_images_hsv = []\n",
    "\n",
    "for i in range(0, len(mission_numbers)):\n",
    "    hsv = cv2.cvtColor(mission_images_bgr[i].copy(), cv2.COLOR_BGR2HSV)\n",
    "    mission_images_hsv.append(hsv)\n",
    "    \n",
    "    hsv = cv2.cvtColor(histogram_mission_images_bgr[i].copy(), cv2.COLOR_BGR2HSV)\n",
    "    histogram_mission_images_hsv.append(hsv)\n",
    "    \n",
    "    hsv = cv2.cvtColor(histogram_region_images_bgr[i].copy(), cv2.COLOR_BGR2HSV)\n",
    "    histogram_region_images_hsv.append(hsv)"
   ]
  },
  {
   "cell_type": "markdown",
   "metadata": {},
   "source": [
    "# HSV Matching Comparison"
   ]
  },
  {
   "cell_type": "code",
   "execution_count": null,
   "metadata": {
    "scrolled": false
   },
   "outputs": [],
   "source": [
    "plot_images(mission_images_hsv, ['mission_images_hsv ' + str(mission_number) for mission_number in mission_numbers])\n",
    "plot_images(histogram_mission_images_hsv, ['histogram_mission_images_hsv ' + str(mission_number) for mission_number in mission_numbers])\n",
    "plot_images(histogram_region_images_hsv, ['histogram_region_images_hsv ' + str(mission_number) for mission_number in mission_numbers])"
   ]
  },
  {
   "cell_type": "code",
   "execution_count": null,
   "metadata": {},
   "outputs": [],
   "source": [
    "# for i in range(0, len(mission_numbers)):\n",
    "#     np.save(get_mission_file_path(mission_numbers[i]) + 'histogram_matched_image' + '.npy', histogram_mission_images[i])\n",
    "#     np.save(get_mission_file_path(mission_numbers[i]) + 'histogram_matched_image_hsv' + '.npy', histogram_mission_images_hsv[i])\n",
    "\n",
    "# bgr = np.load(get_mission_file_path(2) + 'histogram_matched_image' + '.npy')\n",
    "# hsv = np.load(get_mission_file_path(2) + 'histogram_matched_image_hsv' + '.npy')\n",
    "# plot_images([bgr, hsv], ['bgr', 'hsv'])"
   ]
  },
  {
   "cell_type": "code",
   "execution_count": null,
   "metadata": {},
   "outputs": [],
   "source": [
    "# h = [mission_image_hsv[:, :, 0] for mission_image_hsv in histogram_mission_images_hsv]\n",
    "# s = [mission_image_hsv[:, :, 1] for mission_image_hsv in histogram_mission_images_hsv]\n",
    "# v = [mission_image_hsv[:, :, 2] for mission_image_hsv in histogram_mission_images_hsv]"
   ]
  },
  {
   "cell_type": "code",
   "execution_count": null,
   "metadata": {},
   "outputs": [],
   "source": [
    "# plot_images(h, ['H ' + str(mission_number) for mission_number in mission_numbers])\n",
    "# plot_images(s, ['S ' + str(mission_number) for mission_number in mission_numbers])\n",
    "# plot_images(v, ['V ' + str(mission_number) for mission_number in mission_numbers])"
   ]
  },
  {
   "cell_type": "markdown",
   "metadata": {},
   "source": [
    "# Shadow - Detection then Blackout"
   ]
  },
  {
   "cell_type": "code",
   "execution_count": null,
   "metadata": {},
   "outputs": [],
   "source": [
    "shadow_masks = []\n",
    "shadow_mission_images_hsv = []\n",
    "smoothed_shadow_masks = []\n",
    "smoothed_shadow_mission_images_hsv = []\n",
    "\n",
    "for i in range(0, len(mission_numbers)):\n",
    "    lower_shadow = np.array([69, 20, 1]) # from hsv_finder.py\n",
    "    upper_shadow = np.array([129, 102, 34])\n",
    "    mask = cv2.inRange(mission_images_hsv[i].copy(), lower_shadow, upper_shadow)\n",
    "    shadow_masks.append(mask)\n",
    "    image = cv2.bitwise_and(mission_images_hsv[i], mission_images_hsv[i], mask=mask).astype(np.uint8)\n",
    "    shadow_mission_images_hsv.append(image)\n",
    "     \n",
    "    mask = copy.deepcopy(mask)\n",
    "    mask = area_opening(mask, area_threshold=50)\n",
    "    mask = cv2.dilate(mask, disk(radius=5), iterations=1)\n",
    "    smoothed_shadow_masks.append(mask)\n",
    "    smoothed_shadow_mission_images_hsv.append(cv2.bitwise_and(mission_images_hsv[i], mission_images_hsv[i], mask=mask).astype(np.uint8))"
   ]
  },
  {
   "cell_type": "code",
   "execution_count": null,
   "metadata": {},
   "outputs": [],
   "source": [
    "# plot_images(shadow_masks, ['shadow_mask ' + str(mission_number) for mission_number in mission_numbers])\n",
    "plot_images(shadow_mission_images_hsv, ['shadow_mission_images_hsv ' + str(mission_number) for mission_number in mission_numbers])\n",
    "# plot_images(smoothed_shadow_masks, ['smoothed_shadow_masks ' + str(mission_number) for mission_number in mission_numbers])\n",
    "plot_images(smoothed_shadow_mission_images_hsv, ['smoothed_shadow_mission_images_hsv ' + str(mission_number) for mission_number in mission_numbers])"
   ]
  },
  {
   "cell_type": "code",
   "execution_count": null,
   "metadata": {},
   "outputs": [],
   "source": [
    "# create all encompassing shadow mask\n",
    "\n",
    "complete_shadow_mask = np.zeros((smoothed_shadow_masks[0].shape)).astype(int)\n",
    "for i in range(0, len(shadow_masks)):\n",
    "    complete_shadow_mask = cv2.bitwise_or(complete_shadow_mask, smoothed_shadow_masks[i].astype(int))\n",
    "\n",
    "complete_shadow_mask = complete_shadow_mask.astype(np.uint8)\n",
    "plot_images([complete_shadow_mask], ['complete_shadow_mask'], size_per_image=5)"
   ]
  },
  {
   "cell_type": "code",
   "execution_count": null,
   "metadata": {},
   "outputs": [],
   "source": [
    "modified_mission_images_bgr = []\n",
    "modified_mission_images_hsv = []\n",
    "\n",
    "for i in range(0, len(mission_numbers)):\n",
    "    modified_bgr = copy.deepcopy(histogram_mission_images_bgr[i])\n",
    "    modified_hsv = copy.deepcopy(histogram_mission_images_hsv[i])\n",
    "\n",
    "    try:\n",
    "#         modified[smoothed_shadow_masks[i].astype(bool), :] = 0 # set to black\n",
    "        modified_bgr[complete_shadow_mask.astype(bool), :] = 0 # set to black\n",
    "        modified_hsv[complete_shadow_mask.astype(bool), :] = 0 # set to black\n",
    "    except ValueError:\n",
    "        print('not modified')\n",
    "    \n",
    "    modified_mission_images_bgr.append(modified_bgr)\n",
    "    modified_mission_images_hsv.append(modified_hsv)"
   ]
  },
  {
   "cell_type": "code",
   "execution_count": null,
   "metadata": {
    "scrolled": false
   },
   "outputs": [],
   "source": [
    "# plot_images(mission_images_bgr, ['mission_images_bgr ' + str(mission_number) for mission_number in mission_numbers])\n",
    "plot_images(modified_mission_images_bgr, ['modified_mission_images_bgr ' + str(mission_number) for mission_number in mission_numbers])\n",
    "# plot_images(mission_images_hsv, ['mission_images_hsv ' + str(mission_number) for mission_number in mission_numbers])\n",
    "plot_images(modified_mission_images_hsv, ['modified_mission_images_hsv ' + str(mission_number) for mission_number in mission_numbers])"
   ]
  },
  {
   "cell_type": "markdown",
   "metadata": {},
   "source": [
    "# Ratio, Difference"
   ]
  },
  {
   "cell_type": "code",
   "execution_count": null,
   "metadata": {},
   "outputs": [],
   "source": [
    "# 130, 123\n",
    "box_w = 1\n",
    "box_y = 123\n",
    "\n",
    "x_lim = np.array([0, int((255-box_w)/2), 255 - int((255-box_w)/2), 255])\n",
    "y_lim = np.array([0,  box_y, box_y, 255])\n",
    "z = np.polyfit(x_lim, y_lim, 5) # R(0-255) --> R(0-255)\n",
    "print(x_lim)\n",
    "print(y_lim)\n",
    "print(z)\n",
    "\n",
    "nonlinear_poly = np.poly1d(z)\n",
    "\n",
    "xp = np.linspace(0, 255, 256)\n",
    "yp = nonlinear_poly(xp)\n",
    "\n",
    "xp_adj = np.linspace(0, 255, 256)\n",
    "yp_adj = nonlinear_poly(xp_adj)\n",
    "mask = [num >= x_lim[1] and num <= x_lim[2] for num in xp_adj]\n",
    "yp_adj[mask] = box_y"
   ]
  },
  {
   "cell_type": "code",
   "execution_count": null,
   "metadata": {},
   "outputs": [],
   "source": [
    "plt.plot(x_lim, y_lim, 'k', xp, yp, 'r', xp, yp_adj, 'b')"
   ]
  },
  {
   "cell_type": "code",
   "execution_count": null,
   "metadata": {},
   "outputs": [],
   "source": [
    "def detection_methods(img1, img2, method=''):\n",
    "#     img1 = copy.deepcopy(cv2.cvtColor(img1, cv2.COLOR_HSV2GRAY))+1 # avoids / 0\n",
    "#     img2 = copy.deepcopy(cv2.cvtColor(img2, cv2.COLOR_HSV2GRAY))+1\n",
    "    img1 = copy.deepcopy(img1[:, :, :])+1\n",
    "    img2 = copy.deepcopy(img2[:, :, :])+1\n",
    "    threeD = True\n",
    "\n",
    "    img1 = img1.astype(np.int16) # SUPER IMPORTANT - convert to int16 (or higher but necessary) to so that \"result\" array can preserve greater than +-255\n",
    "    img2 = img2.astype(np.int16)\n",
    "    \n",
    "#     print('----')\n",
    "    \n",
    "    if method == 'difference':\n",
    "        print('----------')\n",
    "        if threeD:\n",
    "            result = img1 - img2\n",
    "            result += 255\n",
    "            \n",
    "            result = (result-np.min(result))*(255/(np.max(result) - np.min(result)))\n",
    "            \n",
    "            result = result.astype(np.uint8)\n",
    "            result = cv2.cvtColor(result, cv2.COLOR_BGR2GRAY)\n",
    "            \n",
    "        else:\n",
    "            \n",
    "            result = img1 - img2\n",
    "    #         print(np.min(result), np.max(result))\n",
    "\n",
    "            result += 255 # max difference is 255 or -255, add 255 to bring everything positive\n",
    "    #         print(np.min(result), np.max(result))\n",
    "\n",
    "            #----------\n",
    "            result = (result-np.min(result))*(255/(np.max(result) - np.min(result))) # linear 0-255 scaling\n",
    "\n",
    "    #         hist_1, bins_1 = np.histogram(result.ravel(), 256, [0, 256])\n",
    "\n",
    "            xp_adj = copy.deepcopy(result)\n",
    "            yp_adj = nonlinear_poly(xp_adj) # nonlinear 0-255 scaling\n",
    "\n",
    "    #         print(x_lim[1], x_lim[2])\n",
    "            mask = cv2.inRange(xp_adj.copy(), np.array([x_lim[1]]).astype(np.uint8), np.array([x_lim[2]]).astype(np.uint8)).astype(bool)\n",
    "            print(np.sum(mask)/np.prod(mask.shape)*100)\n",
    "\n",
    "    #         result[mask] = box_y # for 2D\n",
    "\n",
    "    #         yp_adj[mask] = box_y\n",
    "    #         result = yp_adj\n",
    "    #         print(result[0:2, 0:5])\n",
    "\n",
    "    #         result = (result-np.min(result))*(255/(np.max(result) - np.min(result))) # linear 0-255 scaling because nonlinear scale limits may be slightly off\n",
    "    #         print(np.min(result), np.max(result))\n",
    "\n",
    "    #         hist_2, bins_2 = np.histogram(result.ravel(), 256, [0, 256])\n",
    "\n",
    "            #----------\n",
    "    \n",
    "    elif method == 'ratio':\n",
    "        result = img1 / img2\n",
    "        print(np.min(result), np.max(result))\n",
    "        \n",
    "        result = (result-np.min(result))*(255/(np.max(result) - np.min(result)))\n",
    "        print(np.min(result), np.max(result))\n",
    "\n",
    "    else:\n",
    "        print('NA')\n",
    "        \n",
    "    result = result.astype(np.uint8) # convert back to uint8 to be displayed\n",
    "#     print(np.min(result), np.max(result))\n",
    "    \n",
    "    return result"
   ]
  },
  {
   "cell_type": "code",
   "execution_count": null,
   "metadata": {
    "scrolled": true
   },
   "outputs": [],
   "source": [
    "# using modified_mission_images_hsv[0]\n",
    "\n",
    "adjacent_regions_change_hsv = []\n",
    "\n",
    "for i in range(0, len(mission_numbers)):\n",
    "    adjacent_regions_change_hsv.append(detection_methods(modified_mission_images_bgr[0], modified_mission_images_bgr[i], method='difference'))"
   ]
  },
  {
   "cell_type": "code",
   "execution_count": null,
   "metadata": {},
   "outputs": [],
   "source": [
    "plot_images(adjacent_regions_change_hsv, ['adjacent_regions_change_hsv ' + str(mission_number) for mission_number in mission_numbers])"
   ]
  },
  {
   "cell_type": "code",
   "execution_count": null,
   "metadata": {},
   "outputs": [],
   "source": [
    "masks = []\n",
    "clean_masks_1 = []\n",
    "clean_masks_final = []\n",
    "\n",
    "for i in range(0, len(adjacent_regions_change_hsv)):\n",
    "    mask = np.bitwise_not(cv2.inRange(adjacent_regions_change_hsv[i].copy(), np.array([box_y - 5]).astype(np.uint8), np.array([box_y + 5]).astype(np.uint8)).astype(bool))\n",
    "    temp = np.zeros((mask.shape)).astype(np.uint8)\n",
    "    temp[mask] = 255\n",
    "    masks.append(temp)\n",
    "    \n",
    "    mask = cv2.erode(masks[i], disk(radius=2), iterations=1) # get rid of small stuff\n",
    "    clean_masks_1.append(mask)\n",
    "    mask = cv2.dilate(mask, disk(radius=5), iterations=1)\n",
    "    clean_masks_final.append(mask)"
   ]
  },
  {
   "cell_type": "code",
   "execution_count": null,
   "metadata": {},
   "outputs": [],
   "source": [
    "plot_images(masks, ['masks ' +  str(mission_number) for mission_number in mission_numbers])\n",
    "# plot_images(clean_masks_1, ['clean_masks_1 ' + str(mission_number) for mission_number in mission_numbers])\n",
    "# plot_images(clean_masks_final, ['clean_masks_final ' + str(mission_number) for mission_number in mission_numbers])"
   ]
  },
  {
   "cell_type": "code",
   "execution_count": null,
   "metadata": {
    "scrolled": false
   },
   "outputs": [],
   "source": [
    "bbox_masks, num_bboxs, superimposed_images = create_bounding_boxes(clean_masks_final, histogram_mission_images_bgr, display_bbox=True, display_output=True, num_bbox_iterations=1, bbox_color=(255, 0, 0))"
   ]
  },
  {
   "cell_type": "markdown",
   "metadata": {},
   "source": [
    "# Color Gradient"
   ]
  },
  {
   "cell_type": "code",
   "execution_count": null,
   "metadata": {},
   "outputs": [],
   "source": [
    "color_buckets = create_color_buckets(colors=['#FF0000', '#00FF00'], num_buckets=10, display=True)\n",
    "print(color_buckets)"
   ]
  },
  {
   "cell_type": "markdown",
   "metadata": {},
   "source": [
    "# Roof - percent non-white roof pixels"
   ]
  },
  {
   "cell_type": "code",
   "execution_count": null,
   "metadata": {},
   "outputs": [],
   "source": [
    "roof_masks = []\n",
    "roof_region_images_hsv = []\n",
    "smoothed_roof_masks = []\n",
    "smoothed_roof_region_images_hsv = []\n",
    "\n",
    "for i in range(0, len(mission_numbers)):\n",
    "    lower_roof = np.array([0, 0, 0]) # from hsv_finder.py\n",
    "    upper_roof = np.array([25, 45, 200])\n",
    "    mask = cv2.inRange(histogram_region_images_hsv[i].copy(), lower_roof, upper_roof)\n",
    "    roof_masks.append(mask)\n",
    "    image = cv2.bitwise_and(histogram_region_images_hsv[i], histogram_region_images_hsv[i], mask=mask).astype(np.uint8)\n",
    "    roof_region_images_hsv.append(image)\n",
    "     \n",
    "#     mask = copy.deepcopy(mask)\n",
    "#     mask = area_opening(mask, area_threshold=50)\n",
    "#     mask = cv2.dilate(mask, disk(radius=5), iterations=1)\n",
    "#     smoothed_roof_masks.append(mask)\n",
    "#     smoothed_roof_region_images_hsv.append(cv2.bitwise_and(histogram_region_images_hsv[i], histogram_region_images_hsv[i], mask=mask).astype(np.uint8))"
   ]
  },
  {
   "cell_type": "code",
   "execution_count": null,
   "metadata": {},
   "outputs": [],
   "source": [
    "plot_images(roof_masks, ['roof_masks ' + str(mission_number) for mission_number in mission_numbers])\n",
    "# plot_images(histogram_region_images_bgr, ['histogram_region_images_bgr ' + str(mission_number) for mission_number in mission_numbers])\n",
    "# plot_images(smoothed_roof_masks, ['smoothed_roof_masks ' + str(mission_number) for mission_number in mission_numbers])\n",
    "# plot_images(smoothed_roof_region_images_hsv, ['smoothed_roof_region_images_hsv ' + str(mission_number) for mission_number in mission_numbers])"
   ]
  },
  {
   "cell_type": "code",
   "execution_count": null,
   "metadata": {},
   "outputs": [],
   "source": [
    "percent_dark_pixels = []\n",
    "\n",
    "for i in range(0, len(roof_masks)):\n",
    "    percent_dark_pixels.append( np.sum(roof_masks[i]!=255) / np.prod(roof_masks[i].shape) * 100 )\n",
    "\n",
    "plt.scatter(mission_numbers, percent_dark_pixels)\n",
    "plt.xlabel('Mission Number')\n",
    "plt.ylabel('% Dark Pixels')"
   ]
  },
  {
   "cell_type": "code",
   "execution_count": null,
   "metadata": {},
   "outputs": [],
   "source": []
  },
  {
   "cell_type": "markdown",
   "metadata": {},
   "source": [
    "# Texture"
   ]
  },
  {
   "cell_type": "markdown",
   "metadata": {},
   "source": [
    "# PCA"
   ]
  },
  {
   "cell_type": "code",
   "execution_count": null,
   "metadata": {},
   "outputs": [],
   "source": [
    "def svd(X):\n",
    "    \"\"\"\n",
    "    Do SVD. You could use numpy SVD. \n",
    "    Your function should be able to handle black and white \n",
    "    images (N*D arrays) as well as color images (N*D*3 arrays)\n",
    "\n",
    "    In the image compression, we assume that each coloum of the image is a feature. Image is the matrix X.\n",
    "    \n",
    "    Args:\n",
    "        X: N * D array corresponding to an image (N*D*3 if color image)\n",
    "    Return:\n",
    "        U: N*N (*3 for color images)\n",
    "        S: min(N, D)*1 (*3 for color images)\n",
    "        V: D*D (*3 for color images)\n",
    "    \"\"\"\n",
    "    \n",
    "    D = X.shape[1]\n",
    "    N = X.shape[0]\n",
    "\n",
    "    if len(X.shape) == 2: #N x D\n",
    "        U, S, V = np.linalg.svd(X)\n",
    "        S = np.expand_dims(S, axis=1)\n",
    "    elif len(X.shape) == 3: #N x D x 3, run through each dimension\n",
    "        U = np.empty((N, N, 0))\n",
    "        S = np.empty((np.min([N, D]), 0))\n",
    "        V = np.empty((D, N, 0))\n",
    "        \n",
    "        for i in range(0, X.shape[2]):\n",
    "            U_i, S_i, V_i = np.linalg.svd(X[:, :, i])            \n",
    "            U = np.append(U, np.expand_dims(U_i, axis=2), axis=2)\n",
    "            S = np.append(S, np.expand_dims(S_i, axis=1), axis=1)\n",
    "            V = np.append(V, np.expand_dims(V_i, axis=2), axis=2)\n",
    "\n",
    "    return U, S, V\n",
    "\n",
    "def rebuildsvd(U, S, V, k):\n",
    "    \"\"\"\n",
    "    Rebuild SVD by k componments.\n",
    "    Args: \n",
    "        U: N*N (*3 for color images) \n",
    "        S: min(N, D)*1 (*3 for color images)\n",
    "        V: D*D (*3 for color images)  \n",
    "        k: int corresponding to number of components\n",
    "    Return:\n",
    "        Xrebuild: N*D array of reconstructed image (N*D*3 if color image)\n",
    "        \n",
    "    Hint: numpy.matmul may be helpful for reconstructing color images\n",
    "    \"\"\"\n",
    "    \n",
    "    D = V.shape[0]\n",
    "    N = U.shape[0]\n",
    "\n",
    "    if len(U.shape) == 2: #N x D\n",
    "        Xrebuild = np.matrix(U[:, 0:k]) * np.diagflat(S[0:k]) * np.matrix(V[0:k, :])\n",
    "    elif len(U.shape) == 3:\n",
    "        Xrebuild = np.empty((N, D, 0))\n",
    "        for i in range(0, U.shape[2]):\n",
    "            Xrebuild_i = np.matrix(U[:, 0:k, i]) * np.diagflat(S[0:k, i]) * np.matrix(V[0:k, :, i])           \n",
    "            Xrebuild = np.append(Xrebuild, np.expand_dims(Xrebuild_i, axis=2), axis=2)\n",
    "    \n",
    "    return Xrebuild\n",
    "\n",
    "def compression_ratio(X, k):\n",
    "    \"\"\"\n",
    "    Compute compression of an image: (num stored values in compressed)/(num stored values in original)\n",
    "    Args: \n",
    "        X: N * D array corresponding to an image (N * D * 3 if color image)\n",
    "        k: int corresponding to number of components\n",
    "    Return:\n",
    "        compression_ratio: float of proportion of storage used by compressed image\n",
    "    \"\"\"\n",
    "\n",
    "    #http://timbaumann.info/svd-image-compression-demo/\n",
    "    H = X.shape[0]\n",
    "    W = X.shape[1]\n",
    "    \n",
    "    return (W*k + k + k*H) / (H*W)\n",
    "\n",
    "def recovered_variance_proportion(S, k):\n",
    "    \"\"\"\n",
    "    Compute the proportion of the variance in the original matrix recovered by a rank-k approximation\n",
    "    \n",
    "    Args:\n",
    "       S: min(N, D)*1 (*3 for color images) of singular values for the image\n",
    "       k: int, rank of approximation\n",
    "    Return:\n",
    "       recovered_var: int (array of 3 ints for color image) corresponding to proportion of recovered variance\n",
    "    \"\"\"\n",
    "\n",
    "    #variance recovered = variance of top K components / variance of all components\n",
    "    \n",
    "    variance_recovered = np.power(S, 2)\n",
    "    \n",
    "    if S.shape[1] == 1:\n",
    "        return np.sum(variance_recovered[0:k], axis=0)[0] / np.sum(variance_recovered, axis=0)[0]\n",
    "    elif S.shape[1] == 3:\n",
    "        return np.sum(variance_recovered[0:k, :], axis=0) / np.sum(variance_recovered, axis=0)"
   ]
  },
  {
   "cell_type": "code",
   "execution_count": null,
   "metadata": {
    "scrolled": false
   },
   "outputs": [],
   "source": [
    "# from sklearn.decomposition import PCA\n",
    "\n",
    "pca_images = []\n",
    "for i in range(0, len(mission_numbers)):\n",
    "    U, S, V = svd(mission_images[i][0:470, 0:470, :]) # needs to be square\n",
    "    component_num = [1, 5, 10, 50, 100, 500]\n",
    "\n",
    "    fig = plt.figure(figsize=(30, 30))\n",
    "\n",
    "    # plot several images\n",
    "    pca_list = []\n",
    "    j = 0\n",
    "    for k in component_num:\n",
    "        img_rebuild = rebuildsvd(U, S, V, k)/255\n",
    "#         c = np.around(compression_ratio(image, k), 4)\n",
    "#         r = np.around(recovered_variance_proportion(S, k), 3)\n",
    "        ax = fig.add_subplot(1, 6, j+1, xticks=[], yticks=[])\n",
    "        ax.imshow(img_rebuild)\n",
    "        ax.set_title(f\"Mission {mission_numbers[i]} - {k} Components\")\n",
    "#         ax.set_xlabel(f\"Compression: {np.around(c,4)},\\nRecovered Variance: R: {r[0]} G: {r[1]} B: {r[2]}\")\n",
    "        j += 1\n",
    "        pca_list.append((img_rebuild*255).astype(np.uint8))\n",
    "    \n",
    "    pca_images.append(pca_list)"
   ]
  },
  {
   "cell_type": "code",
   "execution_count": null,
   "metadata": {},
   "outputs": [],
   "source": [
    "hsv_pca_images = []\n",
    "for i in range(0, len(pca_images)):\n",
    "    hsv_pca_list = []\n",
    "    for j in range(0, len(pca_images[i])):\n",
    "        hsv_pca_list.append(cv2.cvtColor(pca_images[i][j], cv2.COLOR_BGR2HSV))\n",
    "    hsv_pca_images.append(hsv_pca_list)"
   ]
  },
  {
   "cell_type": "code",
   "execution_count": null,
   "metadata": {},
   "outputs": [],
   "source": [
    "# for i in range(0, len(hsv_pca_images)):\n",
    "#     plot_images(hsv_pca_images[i])"
   ]
  },
  {
   "cell_type": "code",
   "execution_count": null,
   "metadata": {
    "scrolled": false
   },
   "outputs": [],
   "source": [
    "temp = []\n",
    "for i in range(0, len(mission_numbers)-1):\n",
    "    temp.append(cv2.cvtColor(np.absolute(pca_images[i][0] - pca_images[i+1][0]), cv2.COLOR_BGR2GRAY))\n",
    "\n",
    "plot_images(temp)"
   ]
  },
  {
   "cell_type": "code",
   "execution_count": null,
   "metadata": {},
   "outputs": [],
   "source": [
    "temp = []\n",
    "for i in range(0, len(mission_numbers)-1):\n",
    "    temp.append(np.absolute(hsv_pca_images[i][3] - hsv_pca_images[i+1][3]))\n",
    "\n",
    "plot_images(temp)"
   ]
  },
  {
   "cell_type": "markdown",
   "metadata": {},
   "source": [
    "# Contours"
   ]
  },
  {
   "cell_type": "code",
   "execution_count": null,
   "metadata": {},
   "outputs": [],
   "source": [
    "import imutils\n",
    "from skimage.measure import compare_ssim"
   ]
  },
  {
   "cell_type": "code",
   "execution_count": null,
   "metadata": {},
   "outputs": [],
   "source": [
    "imageA = region_images[0]\n",
    "imageB = region_images[1]\n",
    "grayA = cv2.cvtColor(imageA, cv2.COLOR_BGR2GRAY)\n",
    "grayB = cv2.cvtColor(imageB, cv2.COLOR_BGR2GRAY)\n",
    "\n",
    "(score, diff) = compare_ssim(grayA, grayB, full=True)\n",
    "diff = (diff*255).astype(\"uint8\")\n",
    "print(\"SSIM: {}\".format(score)) # [-1, 1] 1 perfect match"
   ]
  },
  {
   "cell_type": "code",
   "execution_count": null,
   "metadata": {},
   "outputs": [],
   "source": [
    "thresh = cv2.threshold(diff, 100, 255, cv2.THRESH_BINARY_INV | cv2.THRESH_OTSU)[1]\n",
    "cnts = cv2.findContours(thresh.copy(), cv2.RETR_EXTERNAL, cv2.CHAIN_APPROX_SIMPLE)\n",
    "cnts = imutils.grab_contours(cnts)"
   ]
  },
  {
   "cell_type": "code",
   "execution_count": null,
   "metadata": {
    "scrolled": false
   },
   "outputs": [],
   "source": [
    "for c in cnts:\n",
    "    # compute the bounding box of the contour and then draw the\n",
    "    # bounding box on both input images to represent where the two\n",
    "    # images differ\n",
    "    (x, y, w, h) = cv2.boundingRect(c)\n",
    "    cv2.rectangle(imageA, (x, y), (x+w, y+h), (0, 0, 255), 1)\n",
    "    cv2.rectangle(imageB, (x, y), (x+w, y+h), (0, 0, 255), 1)\n",
    "\n",
    "plot_images([imageA, imageB, grayA, grayB, diff, thresh], ['imageA', 'imageB', 'grayA', 'grayB', 'diff', 'thresh'])"
   ]
  },
  {
   "cell_type": "code",
   "execution_count": null,
   "metadata": {},
   "outputs": [],
   "source": [
    "thresholds = []\n",
    "\n",
    "for i in range(0, len(adjacent_regions_change_hsv)):\n",
    "    thresh = cv2.threshold(adjacent_regions_change_hsv[i], 100, 255, cv2.THRESH_BINARY_INV | cv2.THRESH_OTSU)[1]\n",
    "    thresholds.append(thresh)"
   ]
  },
  {
   "cell_type": "code",
   "execution_count": null,
   "metadata": {},
   "outputs": [],
   "source": [
    "plot_images(thresholds)"
   ]
  }
 ],
 "metadata": {
  "kernelspec": {
   "display_name": "Python 3",
   "language": "python",
   "name": "python3"
  },
  "language_info": {
   "codemirror_mode": {
    "name": "ipython",
    "version": 3
   },
   "file_extension": ".py",
   "mimetype": "text/x-python",
   "name": "python",
   "nbconvert_exporter": "python",
   "pygments_lexer": "ipython3",
   "version": "3.6.8"
  }
 },
 "nbformat": 4,
 "nbformat_minor": 2
}

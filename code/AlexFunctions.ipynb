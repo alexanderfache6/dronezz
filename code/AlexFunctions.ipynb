{
 "cells": [
  {
   "cell_type": "code",
   "execution_count": 11,
   "metadata": {},
   "outputs": [],
   "source": [
    "import copy\n",
    "import cv2\n",
    "import matplotlib.pyplot as plt\n",
    "import numpy as np"
   ]
  },
  {
   "cell_type": "code",
   "execution_count": 12,
   "metadata": {},
   "outputs": [],
   "source": [
    "REGION_NAMES = ['GRASS', 'SIDEWALK', 'BUILDING', 'GRAVEL']\n",
    "\n",
    "REFERENCE_MISSION = 2"
   ]
  },
  {
   "cell_type": "code",
   "execution_count": 13,
   "metadata": {},
   "outputs": [],
   "source": [
    "def plot_images(image_list, title_list=[], grid='off'):\n",
    "    fig, axes = plt.subplots(nrows=1, ncols=len(image_list), figsize=(10*len(image_list), 10*1))\n",
    "    if len(image_list) == 1:\n",
    "        axes = [axes]\n",
    "\n",
    "    for i, ax in enumerate(axes):\n",
    "        ax.imshow(cv2.cvtColor(image_list[i], cv2.COLOR_BGR2RGB))\n",
    "        if len(title_list) > 0:\n",
    "            ax.set_title(title_list[i])\n",
    "        ax.axis(grid)"
   ]
  },
  {
   "cell_type": "code",
   "execution_count": 14,
   "metadata": {},
   "outputs": [],
   "source": [
    "def plot_mission_region_sample_images(mission_numbers, mission_images=[], region_images=[], sample_images=[], display_missions=True, display_regions=True, display_samples=True):\n",
    "    if display_missions:\n",
    "        if len(mission_images) > 0:\n",
    "            print('Displaying missions')\n",
    "            plot_images(mission_images, ['Mission ' + str(mission_number) for mission_number in mission_numbers])\n",
    "        else:\n",
    "            print('[Error] No mission images available to display')\n",
    "    \n",
    "    if display_regions:\n",
    "        if len(region_images) > 0:\n",
    "            print('Displaying regions')\n",
    "            plot_images(region_images, ['Region ' + str(mission_number) for mission_number in mission_numbers])\n",
    "        else:\n",
    "            print('[Error] No region images available to display')\n",
    "    \n",
    "    if display_samples:\n",
    "        if len(sample_images) > 0:\n",
    "            print('Displaying samples')\n",
    "            plot_images(sample_images, ['Sample ' + str(mission_number) for mission_number in mission_numbers])\n",
    "        else:\n",
    "            print('[Error] No sample images available to display')"
   ]
  },
  {
   "cell_type": "code",
   "execution_count": 5,
   "metadata": {},
   "outputs": [],
   "source": [
    "def get_mission_file_path(mission_number):\n",
    "    return '..\\\\missions\\\\mission_' + str(mission_number) + '\\\\mission_' + str(mission_number) + '_'"
   ]
  },
  {
   "cell_type": "code",
   "execution_count": 6,
   "metadata": {},
   "outputs": [],
   "source": [
    "def get_aligned_global_image(mission_number):\n",
    "    mission = np.load(get_mission_file_path(mission_number) + 'aligned_image.npy')\n",
    "    return mission"
   ]
  },
  {
   "cell_type": "code",
   "execution_count": 7,
   "metadata": {},
   "outputs": [],
   "source": [
    "def get_aligned_region_and_sample_image(mission_number, region_name):\n",
    "    region = np.load(get_mission_file_path(mission_number) + 'aligned_region_image_' + region_name + '.npy')\n",
    "    sample = np.load(get_mission_file_path(mission_number) + 'aligned_sample_image_' + region_name + '.npy')\n",
    "    return region, sample"
   ]
  },
  {
   "cell_type": "code",
   "execution_count": 18,
   "metadata": {},
   "outputs": [],
   "source": [
    "# load mission images, region images, sample images for given missions and a region\n",
    "def setup_regions_and_images():\n",
    "    # select mission numbers and region type\n",
    "    mission_numbers = [2, 3, 4, 5, 6, 8,9,10,11]\n",
    "    region_type = 'GRASS'\n",
    "    mission_images = []\n",
    "    region_images = []\n",
    "    sample_images = []\n",
    "\n",
    "    for mission_number in mission_numbers:\n",
    "        # load mission images\n",
    "        mission_image = get_aligned_global_image(mission_number)\n",
    "        mission_images.append(mission_image)\n",
    "    \n",
    "        # load region images and sample images\n",
    "        region_image, sample_image = get_aligned_region_and_sample_image(mission_number, region_type)\n",
    "        region_images.append(region_image)\n",
    "        sample_images.append(sample_image)\n",
    "\n",
    "    # all lengths and dimensions should match\n",
    "    #print(len(mission_images))\n",
    "    #print(mission_images[0].shape)\n",
    "    #print(len(region_images))\n",
    "    #print(region_images[0].shape)\n",
    "    #print(len(sample_images))\n",
    "    #print(sample_images[0].shape)\n",
    "    #plot_mission_region_sample_images(mission_numbers, mission_images=mission_images, region_images=region_images, sample_images=sample_images, display_missions=True, display_regions=True, display_samples=True)\n",
    "    return region_images"
   ]
  },
  {
   "cell_type": "code",
   "execution_count": null,
   "metadata": {},
   "outputs": [],
   "source": []
  }
 ],
 "metadata": {
  "kernelspec": {
   "display_name": "Python 3",
   "language": "python",
   "name": "python3"
  },
  "language_info": {
   "codemirror_mode": {
    "name": "ipython",
    "version": 3
   },
   "file_extension": ".py",
   "mimetype": "text/x-python",
   "name": "python",
   "nbconvert_exporter": "python",
   "pygments_lexer": "ipython3",
   "version": "3.6.4"
  }
 },
 "nbformat": 4,
 "nbformat_minor": 4
}

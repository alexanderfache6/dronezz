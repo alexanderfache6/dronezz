{
 "cells": [
  {
   "cell_type": "markdown",
   "metadata": {},
   "source": [
    "# Roof Anomaly Detection"
   ]
  },
  {
   "cell_type": "code",
   "execution_count": 1,
   "metadata": {},
   "outputs": [],
   "source": [
    "import cv2\n",
    "import numpy as np"
   ]
  },
  {
   "cell_type": "code",
   "execution_count": 4,
   "metadata": {},
   "outputs": [],
   "source": [
    "# Inputs: an image list (preferably building region images in HSV)\n",
    "# Outputs: a mask of the anomalies on the roof and the percentage of roof that the anomalies take up\n",
    "\n",
    "def findRoofAnomalies(image_list):\n",
    "\n",
    "    final_images_list = []\n",
    "    final_percentage = []\n",
    "    total = np.sum(image_list[0] != [0, 0, 0])\n",
    "\n",
    "    for i in range(0,len(image_list)):\n",
    "\n",
    "            hue_template = np.zeros(image_list[i].shape[0:3]).astype(np.uint8)\n",
    "            # print(hue_template.shape)\n",
    "            circle_template = np.zeros(image_list[i].shape[0:3]).astype(np.uint8)\n",
    "            # print(circle_template.shape)\n",
    "            circle_image = cv2.circle(circle_template, (96,96), 83, (255,255,255), -1)\n",
    "            lower = np.array([3, 31, 39]).astype(np.uint8)\n",
    "            # print(lower)\n",
    "            upper = np.array([34, 125, 145]).astype(np.uint8)\n",
    "            mask = cv2.inRange(image_list[i], lower, upper).astype(bool)\n",
    "            hue_template[mask] = [255, 255, 255]\n",
    "            hue_template = hue_template.astype(np.uint8)\n",
    "            complete_image = cv2.bitwise_and(circle_image, hue_template)\n",
    "            percentage = (np.sum(complete_image == [255, 255, 255]) / total) *100\n",
    "            final_percentage.append(percentage)\n",
    "            final_images_list.append(complete_image)\n",
    "            # print(mask)\n",
    "\n",
    "    # print(final_percentage)\n",
    "    return final_images_list, final_percentage"
   ]
  },
  {
   "cell_type": "code",
   "execution_count": null,
   "metadata": {},
   "outputs": [],
   "source": []
  }
 ],
 "metadata": {
  "kernelspec": {
   "display_name": "Python 3",
   "language": "python",
   "name": "python3"
  },
  "language_info": {
   "codemirror_mode": {
    "name": "ipython",
    "version": 3
   },
   "file_extension": ".py",
   "mimetype": "text/x-python",
   "name": "python",
   "nbconvert_exporter": "python",
   "pygments_lexer": "ipython3",
   "version": "3.7.4"
  }
 },
 "nbformat": 4,
 "nbformat_minor": 4
}

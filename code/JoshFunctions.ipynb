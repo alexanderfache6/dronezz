{
 "cells": [
  {
   "cell_type": "markdown",
   "metadata": {},
   "source": [
    "# Roof Anomaly Detection"
   ]
  },
  {
   "cell_type": "code",
   "execution_count": null,
   "metadata": {},
   "outputs": [],
   "source": [
    "import cv2\n",
    "import numpy as np"
   ]
  },
  {
   "cell_type": "code",
   "execution_count": null,
   "metadata": {},
   "outputs": [],
   "source": [
    "# Inputs: an image (preferably a building region image in HSV)\n",
    "# Outputs: a mask of the anomalies on the roof and the percentage of roof that the anomalies take up\n",
    "\n",
    "def findRoofAnomalies(image):\n",
    "\n",
    "    hue_final = []\n",
    "    final_percentage = []\n",
    "    total = np.sum(image[0] != [0, 0, 0])\n",
    "\n",
    "    for i in range(0,len(image)):\n",
    "\n",
    "            hue_template = np.zeros(image[i].shape[0:3]).astype(np.uint8)\n",
    "            # print(hue_template.shape)\n",
    "            lower = np.array([3, 43, 42]).astype(np.uint8)\n",
    "            # print(lower)\n",
    "            upper = np.array([29, 117, 153]).astype(np.uint8)\n",
    "            mask = cv2.inRange(image[i], lower, upper).astype(bool)\n",
    "            hue_template[mask] = [255, 255, 255]\n",
    "            hue_template = hue_template.astype(np.uint8)\n",
    "            percentage = (np.sum(hue_template == [255, 255, 255]) / total) *100\n",
    "            final_percentage.append(percentage)\n",
    "            hue_final.append(hue_template)\n",
    "            # print(mask)\n",
    "\n",
    "    # print(final_percentage)\n",
    "    return hue_final, final_percentage"
   ]
  }
 ],
 "metadata": {
  "kernelspec": {
   "display_name": "Python 3",
   "language": "python",
   "name": "python3"
  },
  "language_info": {
   "codemirror_mode": {
    "name": "ipython",
    "version": 3
   },
   "file_extension": ".py",
   "mimetype": "text/x-python",
   "name": "python",
   "nbconvert_exporter": "python",
   "pygments_lexer": "ipython3",
   "version": "3.7.4"
  }
 },
 "nbformat": 4,
 "nbformat_minor": 4
}

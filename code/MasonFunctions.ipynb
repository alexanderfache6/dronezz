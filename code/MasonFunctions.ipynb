{
 "cells": [
  {
   "cell_type": "code",
   "execution_count": null,
   "metadata": {},
   "outputs": [],
   "source": [
    "import copy\n",
    "import cv2\n",
    "import matplotlib.pyplot as plt\n",
    "import numpy as np"
   ]
  },
  {
   "cell_type": "code",
   "execution_count": null,
   "metadata": {},
   "outputs": [],
   "source": [
    "\n",
    "def anomaly_detect(image,val):\n",
    "    anomaly_image = copy.deepcopy(image)\n",
    "    for i in range(0,anomaly_image.shape[0]):\n",
    "        for j in range(0,anomaly_image.shape[1]):\n",
    "            if(anomaly_image[i][j][0] < val):\n",
    "                anomaly_image[i][j][0] = 0\n",
    "                anomaly_image[i][j][1] = 0\n",
    "                anomaly_image[i][j][2] = 0\n",
    "            else:\n",
    "                anomaly_image[i][j][0] = 255\n",
    "                anomaly_image[i][j][1] = 255\n",
    "                anomaly_image[i][j][2] = 255\n",
    "    return anomaly_image\n",
    "\n",
    "anomaly = []\n",
    "for i in range(0,len(regions)-1):#for now just find the difference between two different images\n",
    "    if(i!=len(regions)-1):\n",
    "        image1 = regions[i]\n",
    "       \n",
    "        mask = anomaly_detect(image1,140)\n",
    "        anomaly.append(mask)\n",
    "return anomaly     \n"
   ]
  }
 ],
 "metadata": {
  "kernelspec": {
   "display_name": "Python 3",
   "language": "python",
   "name": "python3"
  },
  "language_info": {
   "codemirror_mode": {
    "name": "ipython",
    "version": 3
   },
   "file_extension": ".py",
   "mimetype": "text/x-python",
   "name": "python",
   "nbconvert_exporter": "python",
   "pygments_lexer": "ipython3",
   "version": "3.8.3"
  }
 },
 "nbformat": 4,
 "nbformat_minor": 4
}

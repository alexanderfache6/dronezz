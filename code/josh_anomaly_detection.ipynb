{
 "cells": [
  {
   "cell_type": "markdown",
   "metadata": {},
   "source": [
    "# Parameters"
   ]
  },
  {
   "cell_type": "code",
   "execution_count": null,
   "metadata": {},
   "outputs": [],
   "source": [
    "REGION_NAMES = ['GRASS', 'SIDEWALK', 'BUILDING', 'GRAVEL']\n",
    "\n",
    "REFERENCE_MISSION = 2"
   ]
  },
  {
   "cell_type": "markdown",
   "metadata": {},
   "source": [
    "# Imports and Functions"
   ]
  },
  {
   "cell_type": "code",
   "execution_count": null,
   "metadata": {},
   "outputs": [],
   "source": [
    "import copy\n",
    "import cv2\n",
    "import matplotlib.pyplot as plt\n",
    "import numpy as np\n",
    "import os\n",
    "import sys"
   ]
  },
  {
   "cell_type": "code",
   "execution_count": null,
   "metadata": {},
   "outputs": [],
   "source": [
    "def plot_images(image_list, title_list=[], grid='off'):\n",
    "    fig, axes = plt.subplots(nrows=1, ncols=len(image_list), figsize=(10*len(image_list), 10*1))\n",
    "    if len(image_list) == 1:\n",
    "        axes = [axes]\n",
    "\n",
    "    for i, ax in enumerate(axes):\n",
    "        ax.imshow(cv2.cvtColor(image_list[i], cv2.COLOR_BGR2RGB))\n",
    "        if len(title_list) > 0:\n",
    "            ax.set_title(title_list[i])\n",
    "        ax.axis(grid)"
   ]
  },
  {
   "cell_type": "code",
   "execution_count": null,
   "metadata": {},
   "outputs": [],
   "source": [
    "def plot_mission_region_sample_images(mission_numbers, mission_images=[], region_images=[], sample_images=[], display_missions=True, display_regions=True, display_samples=True):\n",
    "    if display_missions:\n",
    "        if len(mission_images) > 0:\n",
    "            print('Displaying missions')\n",
    "            plot_images(mission_images, ['Mission ' + str(mission_number) for mission_number in mission_numbers])\n",
    "        else:\n",
    "            print('[Error] No mission images available to display')\n",
    "    \n",
    "    if display_regions:\n",
    "        if len(region_images) > 0:\n",
    "            print('Displaying regions')\n",
    "            plot_images(region_images, ['Region ' + str(mission_number) for mission_number in mission_numbers])\n",
    "        else:\n",
    "            print('[Error] No region images available to display')\n",
    "    \n",
    "    if display_samples:\n",
    "        if len(sample_images) > 0:\n",
    "            print('Displaying samples')\n",
    "            plot_images(sample_images, ['Sample ' + str(mission_number) for mission_number in mission_numbers])\n",
    "        else:\n",
    "            print('[Error] No sample images available to display')"
   ]
  },
  {
   "cell_type": "code",
   "execution_count": null,
   "metadata": {},
   "outputs": [],
   "source": [
    "def get_mission_file_path(mission_number):\n",
    "    return '..\\\\missions\\\\mission_' + str(mission_number) + '\\\\mission_' + str(mission_number) + '_'"
   ]
  },
  {
   "cell_type": "code",
   "execution_count": null,
   "metadata": {},
   "outputs": [],
   "source": [
    "def get_global_image(mission_number, get_normalized=True):\n",
    "    if get_normalized:\n",
    "        mission = np.load(get_mission_file_path(mission_number) + 'normalized_image.npy')\n",
    "    else:\n",
    "        mission = np.load(get_mission_file_path(mission_number) + 'aligned_image.npy')\n",
    "    \n",
    "    return mission"
   ]
  },
  {
   "cell_type": "code",
   "execution_count": null,
   "metadata": {},
   "outputs": [],
   "source": [
    "def get_region_and_sample_image(mission_number, region_name, get_normalized=True):\n",
    "    if get_normalized:\n",
    "        region = np.load(get_mission_file_path(mission_number) + 'normalized_region_image_' + region_name + '.npy')\n",
    "        sample = np.load(get_mission_file_path(mission_number) + 'normalized_sample_image_' + region_name + '.npy')\n",
    "    else:\n",
    "        region = np.load(get_mission_file_path(mission_number) + 'aligned_region_image_' + region_name + '.npy')\n",
    "        sample = np.load(get_mission_file_path(mission_number) + 'aligned_sample_image_' + region_name + '.npy')\n",
    "    \n",
    "    return region, sample"
   ]
  },
  {
   "cell_type": "markdown",
   "metadata": {},
   "source": [
    "# Start"
   ]
  },
  {
   "cell_type": "code",
   "execution_count": null,
   "metadata": {},
   "outputs": [],
   "source": [
    "# load mission images, region images, sample images for given missions and a region\n",
    "\n",
    "# select mission numbers and region type\n",
    "mission_numbers = [2, 3, 4, 5]\n",
    "region_type = 'GRASS'\n",
    "get_normalized = True"
   ]
  },
  {
   "cell_type": "code",
   "execution_count": null,
   "metadata": {},
   "outputs": [],
   "source": [
    "mission_images = []\n",
    "region_images = []\n",
    "sample_images = []\n",
    "\n",
    "for mission_number in mission_numbers:\n",
    "    if not os.path.isdir('..\\\\missions\\\\mission_' + str(mission_number)):\n",
    "        print('[Error] Mission %d directory has not been created' % (mission_number))\n",
    "        break\n",
    "    \n",
    "    # load mission images\n",
    "    mission_image = get_global_image(mission_number, get_normalized)\n",
    "    mission_images.append(mission_image)\n",
    "    \n",
    "    # load region images and sample images\n",
    "    region_image, sample_image = get_region_and_sample_image(mission_number, 'BUILDING', get_normalized)\n",
    "    region_images.append(region_image)\n",
    "    sample_images.append(sample_image)\n",
    "\n",
    "# all lengths and dimensions should match\n",
    "print(len(mission_images))\n",
    "print(mission_images[0].shape)\n",
    "print(len(region_images))\n",
    "print(region_images[0].shape)\n",
    "print(len(sample_images))\n",
    "print(sample_images[0].shape)\n",
    "\n",
    "roof_images = region_images"
   ]
  },
  {
   "cell_type": "code",
   "execution_count": null,
   "metadata": {
    "scrolled": true
   },
   "outputs": [],
   "source": [
    "# display the mission images, region images, sample images\n",
    "# don't change \"mission_numbers, mission_images=mission_images, region_images=region_images, sample_images=sample_images\"\n",
    "# change \"display_missions=True, display_regions=True, display_samples=True\" to True or False depending on what you want displayed\n",
    "\n",
    "plot_mission_region_sample_images(mission_numbers, mission_images=mission_images, region_images=roof_images, sample_images=sample_images, display_missions=True, display_regions=True, display_samples=True)"
   ]
  },
  {
   "cell_type": "markdown",
   "metadata": {},
   "source": [
    "# Image Averaging"
   ]
  },
  {
   "cell_type": "code",
   "execution_count": null,
   "metadata": {},
   "outputs": [],
   "source": [
    "# take the average\n",
    "def averageImages(region_images):\n",
    "    #the dimensions of these arrays are 538,470,3 the 3 represents the RGB values.\n",
    "    #we just wants to take those 3 values and see how they have changed.\n",
    "    #may be of some use someday https://stackoverflow.com/questions/596216/formula-to-determine-brightness-of-rgb-color\n",
    "#     summedImage = copy.deepcopy(region_images[0])\n",
    "    \n",
    "#   ADD RGB VALUES FROM EACH IMAGE\n",
    "#     for imgToAdd in region_images[1:]:\n",
    "#         for i in range(0, imgToAdd.shape[0]): #iterate over y position\n",
    "#             for j in range(0, imgToAdd.shape[1]): # iterate over x position   \n",
    "#                 summedImage[i][j][0] += imgToAdd[i][j][0]\n",
    "#                 summedImage[i][j][1] += imgToAdd[i][j][1]\n",
    "#                 summedImage[i][j][2] += imgToAdd[i][j][2]\n",
    "#     print(np.max(summedImage))\n",
    "    \n",
    "    A = np.sum(region_images, axis=0)\n",
    "    print(A.shape)\n",
    "                \n",
    "    #ITERATE OVER THE SUMMED IMAGE AND COMPUTE AVERAGE RGB VALUES\n",
    "#     for i in range(0, summedImage.shape[0]): #iterate over y position\n",
    "#         for j in range(0, summedImage.shape[1]): # iterate over x position   \n",
    "#                 summedImage[i][j][0] = summedImage[i][j][0] // len(region_images)\n",
    "#                 summedImage[i][j][1] = summedImage[i][j][1] // len(region_images)\n",
    "#                 summedImage[i][j][2] = summedImage[i][j][2] // len(region_images)\n",
    "                \n",
    "    A = A / len(region_images)\n",
    "    A = A.astype(np.uint8)\n",
    "    print(np.max(A))\n",
    "\n",
    "    \n",
    "#     averageImage = summedImage\n",
    "    return A\n"
   ]
  },
  {
   "cell_type": "code",
   "execution_count": null,
   "metadata": {},
   "outputs": [],
   "source": [
    "# display the final average image\n",
    "print(np.max(region_images[0]))\n",
    "imgavg = averageImages(region_images)\n",
    "hsvavg = cv2.cvtColor(imgavg, cv2.COLOR_BGR2HSV)\n",
    "print(np.shape(imgavg))\n",
    "plot_mission_region_sample_images(mission_numbers, mission_images=mission_images, region_images=[imgavg], sample_images=sample_images, display_missions=False, display_regions=True, display_samples=False)\n",
    "plot_mission_region_sample_images(mission_numbers, mission_images=mission_images, region_images=[hsvavg], sample_images=sample_images, display_missions=False, display_regions=True, display_samples=False)"
   ]
  },
  {
   "cell_type": "code",
   "execution_count": null,
   "metadata": {},
   "outputs": [],
   "source": [
    "print(np.max(imgavg))"
   ]
  },
  {
   "cell_type": "markdown",
   "metadata": {},
   "source": [
    "# Roof Detection without For Loops"
   ]
  },
  {
   "cell_type": "code",
   "execution_count": 51,
   "metadata": {},
   "outputs": [],
   "source": [
    "# List of roof images in HSV\n",
    "def findRoofAnomalyPercentage(image):\n",
    "\n",
    "    hue_final = []\n",
    "    final_percentage = []\n",
    "    total = np.sum(roof_images[0] != [0, 0, 0])\n",
    "\n",
    "    for i in range(0,len(roof_images)):\n",
    "\n",
    "            hue_template = np.zeros(image[i].shape[0:3]).astype(np.uint8)\n",
    "            # print(hue_template.shape)\n",
    "            lower = np.array([3, 43, 42]).astype(np.uint8)\n",
    "            # print(lower)\n",
    "            upper = np.array([29, 117, 153]).astype(np.uint8)\n",
    "            mask = cv2.inRange(image[i], lower, upper).astype(bool)\n",
    "            hue_template[mask] = [255, 255, 255]\n",
    "            hue_template = hue_template.astype(np.uint8)\n",
    "            percentage = (np.sum(hue_template == [255, 255, 255]) / total) *100\n",
    "            final_percentage.append(percentage)\n",
    "            hue_final.append(hue_template)\n",
    "            # print(mask)\n",
    "\n",
    "    # print(final_percentage)\n",
    "    \n",
    "    return hue_final, final_percentage"
   ]
  },
  {
   "cell_type": "code",
   "execution_count": 52,
   "metadata": {},
   "outputs": [
    {
     "name": "stdout",
     "output_type": "stream",
     "text": [
      "[4.353421333235284, 3.9048424458579993, 3.7320292679339633, 1.23175350222451]\n"
     ]
    }
   ],
   "source": [
    "    image1 = roof_images[i]\n",
    "    image_hsv = cv2.cvtColor(image1, cv2.COLOR_BGR2HSV)\n",
    "    roof_images_hsv.append(image_hsv)\n",
    "    \n",
    "    hue_final, final_percentage = findRoofAnomalyPercentage(roof_images_hsv)\n",
    "    print(final_percentage)"
   ]
  },
  {
   "cell_type": "code",
   "execution_count": 53,
   "metadata": {},
   "outputs": [
    {
     "data": {
      "image/png": "[encoded data removed]",
      "text/plain": [
       "<Figure size 2880x720 with 4 Axes>"
      ]
     },
     "metadata": {
      "needs_background": "light"
     },
     "output_type": "display_data"
    }
   ],
   "source": [
    "#plot_mission_region_sample_images(mission_numbers, mission_images=mission_images, region_images=roof_images_hsv, sample_images=hue_final, display_missions=True, display_regions=True, display_samples=True)\n",
    "plot_images(hue_final, title_list=[], grid='off')"
   ]
  },
  {
   "cell_type": "markdown",
   "metadata": {},
   "source": [
    "# Roof Detection"
   ]
  },
  {
   "cell_type": "code",
   "execution_count": null,
   "metadata": {},
   "outputs": [],
   "source": [
    "hsi_images1\n",
    "\n",
    "def findroof(image1,sensitivity):\n",
    "    hsv1 = cv2.cvtColor(image1, cv2.COLOR_BGR2HSV)\n",
    "    hsi_images1.append(hsv1)\n",
    "    imgreturn = hsv1\n",
    "    for i in range(0, hsv1.shape[0]): #iterate over y position\n",
    "        for j in range(0, hsv1.shape[1]): # iterate over x position   \n",
    "            hue = hsv1[i][j][0]\n",
    "            if(hue in range(0,0+sensitivity)):\n",
    "                hsv1[i][j][0] = 0\n",
    "                hsv1[i][j][1] = 0\n",
    "                hsv1[i][j][2] = 0\n",
    "            else:\n",
    "                hsv1[i][j][0] = 0\n",
    "                hsv1[i][j][1] = 0\n",
    "                hsv1[i][j][2] = 100\n",
    "            imgreturn = hsv1\n",
    "    return imgreturn        \n",
    "    # define range of blue color in HSV\n",
    "    #lower_green = np.array([60 - sensitivity, 100, 50])\n",
    "    #upper_green = np.array([60 + sensitivity, 255, 255])\n",
    "    # Threshold the HSV image to get only blue colors\n",
    "    #mask1 = cv2.inRange(hsv1, lower_green, upper_green)\n",
    "    # Bitwise-AND mask and original image\n",
    "    #res1 = cv2.bitwise_and(image1,image1, mask= mask1)\n",
    "    #cv2.imshow('image1',image1)\n",
    "    #cv2.imshow('mask1',mask1)\n",
    "    #cv2.imshow('res1',res1)\n",
    "    \n",
    "roof_hsl = []\n",
    "\n",
    "for i in range(0,len(roof_images)):#for now just find the difference between two different images\n",
    "        image1 = roof_images[i]\n",
    "        roof_img = findroof(image1,60) #35 was best so far..\n",
    "        roof_hsl.append(roof_img)\n",
    "        #imgDifference = absolute_image_differencing_with_HSL(image1,image2,25)\n",
    "        #image_differences.append(imgDifference)\n"
   ]
  },
  {
   "cell_type": "code",
   "execution_count": null,
   "metadata": {
    "scrolled": true
   },
   "outputs": [],
   "source": [
    "plot_mission_region_sample_images(mission_numbers, mission_images=mission_images, region_images=roof_hsl, sample_images=sample_images, display_missions=True, display_regions=True, display_samples=False)"
   ]
  },
  {
   "cell_type": "code",
   "execution_count": null,
   "metadata": {},
   "outputs": [],
   "source": [
    "# take the average\n",
    "def averageImages(region_images):\n",
    "    #the dimensions of these arrays are 538,470,3 the 3 represents the RGB values.\n",
    "    #we just wants to take those 3 values and see how they have changed.\n",
    "    #may be of some use someday https://stackoverflow.com/questions/596216/formula-to-determine-brightness-of-rgb-color\n",
    "    summedImage = copy.deepcopy(region_images[0]).astype(np.uint16)\n",
    "    \n",
    "#   ADD RGB VALUES FROM EACH IMAG\n",
    "    for imgToAdd in region_images[1:]:\n",
    "        for i in range(0, imgToAdd.shape[0]): #iterate over y position\n",
    "            for j in range(0, imgToAdd.shape[1]): # iterate over x position   \n",
    "                summedImage[i][j][0] += imgToAdd[i][j][0]\n",
    "                summedImage[i][j][1] += imgToAdd[i][j][1]\n",
    "                summedImage[i][j][2] += imgToAdd[i][j][2]\n",
    "                \n",
    "    #ITERATE OVER THE SUMMED IMAGE AND COMPUTE AVERAGE RGB VALUES\n",
    "    for i in range(0, summedImage.shape[0]): #iterate over y position\n",
    "        for j in range(0, summedImage.shape[1]): # iterate over x position   \n",
    "            summedImage[i][j][0] = summedImage[i][j][0] / len(region_images)\n",
    "            summedImage[i][j][1] = summedImage[i][j][1] / len(region_images)\n",
    "            summedImage[i][j][2] = summedImage[i][j][2] / len(region_images)\n",
    "\n",
    "    averageImage = summedImage.astype(np.uint8)\n",
    "    return averageImage\n"
   ]
  },
  {
   "cell_type": "code",
   "execution_count": null,
   "metadata": {
    "scrolled": false
   },
   "outputs": [],
   "source": [
    "# display the final average image\n",
    "print(np.max(region_images[0]))\n",
    "imgavg = averageImages(region_images)\n",
    "print(np.shape(imgavg))\n",
    "plot_mission_region_sample_images(mission_numbers, mission_images=mission_images, region_images=[imgavg], sample_images=sample_images, display_missions=False, display_regions=True, display_samples=False)"
   ]
  },
  {
   "cell_type": "markdown",
   "metadata": {},
   "source": [
    "# Detect Anomalies"
   ]
  },
  {
   "cell_type": "code",
   "execution_count": null,
   "metadata": {},
   "outputs": [],
   "source": [
    "adjacent_regions_diff = []\n",
    "\n",
    "THRESHOLD = 100\n",
    "\n",
    "for i in range(0, len(mission_numbers)-1):\n",
    "    diff = cv2.cvtColor(region_images[i], cv2.COLOR_BGR2GRAY) - cv2.cvtColor(region_images[i+1], cv2.COLOR_BGR2GRAY)\n",
    "\n",
    "    threshold_mask = diff < THRESHOLD\n",
    "    diff[threshold_mask] = 0\n",
    "\n",
    "    adjacent_regions_diff.append(diff)"
   ]
  },
  {
   "cell_type": "code",
   "execution_count": null,
   "metadata": {},
   "outputs": [],
   "source": [
    "plot_mission_region_sample_images(mission_numbers, mission_images=mission_images, region_images=adjacent_regions_diff, sample_images=sample_images, display_missions=False, display_regions=True, display_samples=False)"
   ]
  },
  {
   "cell_type": "code",
   "execution_count": null,
   "metadata": {},
   "outputs": [],
   "source": [
    "# a = np.array([False,True,False])\n",
    "# print(a)\n",
    "# print(~a)\n",
    "# print(np.logical_not(a))\n",
    "\n",
    "# print(threshold_mask[400:410, 0:10])\n",
    "# print(np.logical_not(threshold_mask[400:410, 0:10]))"
   ]
  },
  {
   "cell_type": "code",
   "execution_count": null,
   "metadata": {},
   "outputs": [],
   "source": []
  },
  {
   "cell_type": "code",
   "execution_count": null,
   "metadata": {},
   "outputs": [],
   "source": [
    "import imutils\n",
    "from skimage.measure import compare_ssim\n",
    "\n",
    "imageA = region_images[0]\n",
    "imageB = region_images[1]\n",
    "grayA = cv2.cvtColor(imageA, cv2.COLOR_BGR2GRAY)\n",
    "grayB = cv2.cvtColor(imageB, cv2.COLOR_BGR2GRAY)\n",
    "\n",
    "(score, diff) = compare_ssim(grayA, grayB, full=True)\n",
    "diff = (diff*255).astype(\"uint8\")\n",
    "print(\"SSIM: {}\".format(score)) # [-1, 1] 1 perfect match"
   ]
  },
  {
   "cell_type": "code",
   "execution_count": null,
   "metadata": {},
   "outputs": [],
   "source": [
    "thresh = cv2.threshold(diff, 100, 255, cv2.THRESH_BINARY_INV | cv2.THRESH_OTSU)[1]\n",
    "cnts = cv2.findContours(thresh.copy(), cv2.RETR_EXTERNAL, cv2.CHAIN_APPROX_SIMPLE)\n",
    "cnts = imutils.grab_contours(cnts)"
   ]
  },
  {
   "cell_type": "code",
   "execution_count": null,
   "metadata": {
    "scrolled": false
   },
   "outputs": [],
   "source": [
    "for c in cnts:\n",
    "    # compute the bounding box of the contour and then draw the\n",
    "    # bounding box on both input images to represent where the two\n",
    "    # images differ\n",
    "    (x, y, w, h) = cv2.boundingRect(c)\n",
    "    cv2.rectangle(imageA, (x, y), (x+w, y+h), (0, 0, 255), 1)\n",
    "    cv2.rectangle(imageB, (x, y), (x+w, y+h), (0, 0, 255), 1)\n",
    "\n",
    "plot_images([imageA, imageB, grayA, grayB, diff, thresh], ['imageA', 'imageB', 'grayA', 'grayB', 'diff', 'thresh'])"
   ]
  },
  {
   "cell_type": "code",
   "execution_count": null,
   "metadata": {},
   "outputs": [],
   "source": []
  },
  {
   "cell_type": "code",
   "execution_count": null,
   "metadata": {},
   "outputs": [],
   "source": [
    "# region_mask = region != [0, 0, 0]\n",
    "# region_mask = region_mask.astype(np.uint8)*255\n",
    "# region_mask = region_mask[:, :, 0]\n",
    "\n",
    "# sample_mask = sample != [0, 0, 0]\n",
    "# sample_mask = sample_mask.astype(np.uint8)*255\n",
    "# sample_mask = sample_mask[:, :, 0]\n",
    "\n",
    "# print(region_mask.shape)\n",
    "# print(sample_mask.shape)"
   ]
  },
  {
   "cell_type": "code",
   "execution_count": null,
   "metadata": {},
   "outputs": [],
   "source": [
    "# plot_images([region_mask, sample_mask], ['region_mask', 'sample_mask'])"
   ]
  },
  {
   "cell_type": "code",
   "execution_count": null,
   "metadata": {},
   "outputs": [],
   "source": [
    "# # get pixel mean and covariance\n",
    "\n",
    "# sample_mask_bool = np.bool_(sample_mask)\n",
    "\n",
    "# pixel_mean = [np.mean(sample[sample_mask_bool, 0]), np.mean(sample[sample_mask_bool, 1]), np.mean(sample[sample_mask_bool, 2])]\n",
    "# print(pixel_mean)\n",
    "\n",
    "# pixel_variance = [np.var(sample[sample_mask_bool, 0]), np.var(sample[sample_mask_bool, 1]), np.var(sample[sample_mask_bool, 2])]\n",
    "# print(pixel_variance)\n",
    "\n",
    "# pixel_covariance = np.cov([sample[sample_mask_bool, 0], sample[sample_mask_bool, 1], sample[sample_mask_bool, 2]], rowvar=True)\n",
    "# print(pixel_covariance)"
   ]
  },
  {
   "cell_type": "code",
   "execution_count": null,
   "metadata": {},
   "outputs": [],
   "source": [
    "# print('non zero pixels:', np.sum(region_mask)/255)\n",
    "# region_mask_bool = np.bool_(region_mask)\n",
    "\n",
    "# heatmap = np.zeros((H, W, 3))\n",
    "# heatmap[region_mask_bool, :] = region[region_mask_bool, :] - pixel_mean\n",
    "# heatmap[region_mask_bool, :] = heatmap[region_mask_bool, :] / pixel_variance\n",
    "# print(np.min(heatmap), np.max(heatmap))\n",
    "\n",
    "# heatmap[region_mask_bool, :] = heatmap[region_mask_bool, :] - np.min(heatmap)\n",
    "# print(np.min(heatmap), np.max(heatmap))\n",
    "# scale = 255/np.max(heatmap)\n",
    "# heatmap[region_mask_bool, :] = heatmap[region_mask_bool, :]*scale\n",
    "# print(np.min(heatmap), np.max(heatmap))\n",
    "\n",
    "\n",
    "# heatmap = heatmap.astype(np.uint8)\n",
    "# # heatmap = cv2.cvtColor(heatmap, cv2.COLOR_BGR2GRAY)\n",
    "# # print(np.min(heatmap), np.max(heatmap))\n",
    "\n",
    "# plot_images([heatmap], ['heatmap'])"
   ]
  },
  {
   "cell_type": "code",
   "execution_count": null,
   "metadata": {},
   "outputs": [],
   "source": [
    "# import seaborn as sb\n",
    "\n",
    "# sb.heatmap(heatmap)"
   ]
  }
 ],
 "metadata": {
  "kernelspec": {
   "display_name": "Python 3",
   "language": "python",
   "name": "python3"
  },
  "language_info": {
   "codemirror_mode": {
    "name": "ipython",
    "version": 3
   },
   "file_extension": ".py",
   "mimetype": "text/x-python",
   "name": "python",
   "nbconvert_exporter": "python",
   "pygments_lexer": "ipython3",
   "version": "3.7.4"
  }
 },
 "nbformat": 4,
 "nbformat_minor": 2
}

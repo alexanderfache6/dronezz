{
 "cells": [
  {
   "cell_type": "markdown",
   "metadata": {},
   "source": [
    "### important: whenever you make changes to an imported notebook you need to select \"restart the kernel\" in this notebook to load the changes then rerun the cells"
   ]
  },
  {
   "cell_type": "code",
   "execution_count": null,
   "metadata": {},
   "outputs": [],
   "source": [
    "# ---------- global parameters\n",
    "\n",
    "TIMER_ON = True\n",
    "REFERENCE_MISSION = 2\n",
    "mission_numbers = [REFERENCE_MISSION, 3, 4, 5, 6, 8, 9, 10, 11, 12, 13, 14] # TODO run Pix4D on mission 7 and on friday mission(s)\n",
    "DEBUG_IMAGES = True\n",
    "\n",
    "# ---------- Anomaly Detection\n",
    "\n",
    "MASK_SETTINGS_ALEX = (75, 175, 1, 2, 7, 1) # (lower limit, upper limit, erode radius, erode iterations, dilate radius, dilate iterations)\n",
    "\n",
    "# ---------- Heatmap\n",
    "\n",
    "NUM_BUCKETS = 10\n",
    "# HEATMAP_SENSITIVITY_MIN = 15 # TODO\n",
    "# HEATMAP_SENSITIVITY_MAX = 37 # TODO\n",
    "\n",
    "# ---------- Visualization\n",
    "\n",
    "BBOX_COLORS = [(0, 0, 255), (255, 0, 0)] # red, blue\n",
    "NUM_BBOX_ITERATIONS = 2\n",
    "VOTING_SCHEME = 'AND' # AND, OR, MAJORITY\n",
    "MAJORITY_SUCCESS = 2 # used for majority, number of detection methods that need to agree\n",
    "\n",
    "# ----------"
   ]
  },
  {
   "cell_type": "code",
   "execution_count": null,
   "metadata": {},
   "outputs": [],
   "source": [
    "import import_ipynb\n",
    "\n",
    "import AlexFunctions as AF\n",
    "import JoshFunctions as JF\n",
    "import KyleFunctions as KF\n",
    "# import MasonFunctions as MF # TODO\n",
    "\n",
    "import LoadData as LD\n",
    "import ImagePreprocessing as IP\n",
    "import VisualizeResults as VR\n",
    "\n",
    "import numpy as np\n",
    "import time\n",
    "import sys"
   ]
  },
  {
   "cell_type": "markdown",
   "metadata": {},
   "source": [
    "# Preprocess New Mission"
   ]
  },
  {
   "cell_type": "code",
   "execution_count": null,
   "metadata": {},
   "outputs": [],
   "source": [
    "new_mission = -1\n",
    "\n",
    "if new_mission != -1:\n",
    "    if new_mission in mission_numbers:\n",
    "        sys.exit('Mission number is already included.')\n",
    "\n",
    "    if IP.run_image_preprocessor(mission_number=new_mission, save_results=True, display_results=False):\n",
    "        mission_numbers.append(new_mission)\n",
    "        print('Mission Numbers:', mission_numbers)\n",
    "    else:\n",
    "        sys.exit('Data for mission number ' + str(new_mission) + ' does not exist.')"
   ]
  },
  {
   "cell_type": "markdown",
   "metadata": {},
   "source": [
    "# Load Data"
   ]
  },
  {
   "cell_type": "code",
   "execution_count": null,
   "metadata": {},
   "outputs": [],
   "source": [
    "if len(mission_numbers) < 2:\n",
    "    sys.exit('Minimum of 2 missions required.')"
   ]
  },
  {
   "cell_type": "code",
   "execution_count": null,
   "metadata": {
    "scrolled": false
   },
   "outputs": [],
   "source": [
    "start = time.time()\n",
    "\n",
    "# load all of the images and regions (bgr, hsv, histogram)\n",
    "data = LD.run_load_data(mission_numbers, display_images=False)\n",
    "\n",
    "# original color images\n",
    "mission_images_bgr = data[0]\n",
    "grass_images_bgr = data[1]\n",
    "building_images_bgr = data[2]\n",
    "\n",
    "# histogram normalized color images\n",
    "histogram_mission_images_bgr = data[3]\n",
    "histogram_grass_images_bgr = data[4]\n",
    "histogram_building_images_bgr = data[5]\n",
    "\n",
    "# original hsv images\n",
    "mission_images_hsv = data[6]\n",
    "grass_images_hsv = data[7]\n",
    "building_images_hsv = data[8]\n",
    "\n",
    "# histogram normalized hsv images\n",
    "histogram_mission_images_hsv = data[9]\n",
    "histogram_grass_images_hsv = data[10]\n",
    "histogram_building_images_hsv = data[11]\n",
    "\n",
    "if TIMER_ON: print('Duration: %.3f sec' % (time.time()-start))"
   ]
  },
  {
   "cell_type": "markdown",
   "metadata": {},
   "source": [
    "# Anomaly Detection"
   ]
  },
  {
   "cell_type": "code",
   "execution_count": null,
   "metadata": {
    "scrolled": false
   },
   "outputs": [],
   "source": [
    "start = time.time()\n",
    "\n",
    "# Alex - anomaly detection\n",
    "anomaly_masks_1 = AF.anomaly_detection_1(mission_numbers, mission_images_hsv, histogram_mission_images_hsv, mask_settings=MASK_SETTINGS_ALEX, display_images=False)\n",
    "\n",
    "# Kyle - anomaly detection\n",
    "anomaly_masks_2 = KF.anomaly_detection(grass_images_bgr, 45)\n",
    "\n",
    "# AF.plot_images(image_list=anomaly_masks_1)\n",
    "# AF.plot_images(image_list=anomaly_masks_2)\n",
    "\n",
    "if TIMER_ON: print('Duration: %.3f sec' % (time.time()-start))"
   ]
  },
  {
   "cell_type": "markdown",
   "metadata": {},
   "source": [
    "# Grass Region Heatmap"
   ]
  },
  {
   "cell_type": "code",
   "execution_count": null,
   "metadata": {
    "scrolled": true
   },
   "outputs": [],
   "source": [
    "start = time.time()\n",
    "\n",
    "# Kyle - heatmap\n",
    "# TODO comment out print statements in function\n",
    "heatmap,percents, masklist, color_buckets = KF.score_missions(histogram_grass_images_bgr, NUM_BUCKETS)\n",
    "# print(percents)\n",
    "# AF.plot_images(image_list=masklist)\n",
    "# AF.plot_images(image_list=heatmap)\n",
    "# for each in percents:\n",
    "#      print(np.sum(each))\n",
    "\n",
    "if TIMER_ON: print('Duration: %.3f sec' % (time.time()-start))"
   ]
  },
  {
   "cell_type": "markdown",
   "metadata": {},
   "source": [
    "# Roof"
   ]
  },
  {
   "cell_type": "code",
   "execution_count": null,
   "metadata": {},
   "outputs": [],
   "source": [
    "start = time.time()\n",
    "\n",
    "roof_masks, roof_anomaly_percentages = JF.findRoofAnomalies(histogram_building_images_hsv)\n",
    "# AF.plot_images(roof_masks)\n",
    "# print(roof_anomaly_percentages)\n",
    "\n",
    "if TIMER_ON: print('Duration: %.3f sec' % (time.time()-start))"
   ]
  },
  {
   "cell_type": "markdown",
   "metadata": {},
   "source": [
    "# Visualize Results"
   ]
  },
  {
   "cell_type": "code",
   "execution_count": null,
   "metadata": {
    "scrolled": false
   },
   "outputs": [],
   "source": [
    "start = time.time()\n",
    "\n",
    "# TODO add heatmap mask and Mason mask\n",
    "VR.run_visualize_results(mission_numbers, [anomaly_masks_1, anomaly_masks_2], histogram_mission_images_bgr, NUM_BBOX_ITERATIONS, BBOX_COLORS, heatmap, percents, roof_masks, roof_anomaly_percentages, color_buckets, voting_scheme=VOTING_SCHEME, majority_success=MAJORITY_SUCCESS, display_images=False, save_images=False)\n",
    "\n",
    "if TIMER_ON: print('Duration: %.3f sec' % (time.time()-start))"
   ]
  },
  {
   "cell_type": "markdown",
   "metadata": {},
   "source": [
    "# Generate Summary Output File"
   ]
  },
  {
   "cell_type": "code",
   "execution_count": null,
   "metadata": {},
   "outputs": [],
   "source": [
    "# import GenerateReport as GR\n",
    "# GR.generate_report()"
   ]
  }
 ],
 "metadata": {
  "kernelspec": {
   "display_name": "Python 3",
   "language": "python",
   "name": "python3"
  },
  "language_info": {
   "codemirror_mode": {
    "name": "ipython",
    "version": 3
   },
   "file_extension": ".py",
   "mimetype": "text/x-python",
   "name": "python",
   "nbconvert_exporter": "python",
   "pygments_lexer": "ipython3",
   "version": "3.6.8"
  }
 },
 "nbformat": 4,
 "nbformat_minor": 4
}

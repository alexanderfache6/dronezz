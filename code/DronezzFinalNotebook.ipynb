{
 "cells": [
  {
   "cell_type": "markdown",
   "metadata": {},
   "source": [
    "### important: whenever you make changes to an imported notebook you need to select \"restart the kernel\" in this notebook to load the changes then rerun the cells"
   ]
  },
  {
   "cell_type": "code",
   "execution_count": null,
   "metadata": {},
   "outputs": [],
   "source": [
    "# parameters\n",
    "TIMER = True\n",
    "REFERENCE_MISSION = 2\n",
    "mission_numbers = [REFERENCE_MISSION, 3, 4, 5, 6, 8, 9, 10, 11, 12, 13, 14]\n",
    "\n",
    "BBOX_COLOR = (0, 0, 255)\n",
    "DEBUG_IMAGES = True\n",
    "NUM_BBOX_ITERATIONS = 2"
   ]
  },
  {
   "cell_type": "code",
   "execution_count": null,
   "metadata": {},
   "outputs": [],
   "source": [
    "import import_ipynb\n",
    "\n",
    "import KyleFunctions as KF\n",
    "import AlexFunctions as AF\n",
    "import JoshFunctions as JF\n",
    "# import MasonFunctions as MF\n",
    "\n",
    "#import GenerateReport as GR\n",
    "import LoadData as LD\n",
    "import ImagePreprocessing as IP\n",
    "import VisualizeResults as VR\n",
    "\n",
    "import time\n",
    "import numpy as np"
   ]
  },
  {
   "cell_type": "markdown",
   "metadata": {},
   "source": [
    "# Segment New Mission"
   ]
  },
  {
   "cell_type": "code",
   "execution_count": null,
   "metadata": {},
   "outputs": [],
   "source": [
    "#new_mission = 15\n",
    "#IP.run_image_preprocessor(mission_number=new_mission, save_results=False, display_results=False)\n",
    "\n",
    "#mission_numbers.append(new_mission)"
   ]
  },
  {
   "cell_type": "markdown",
   "metadata": {},
   "source": [
    "# Load Data"
   ]
  },
  {
   "cell_type": "code",
   "execution_count": null,
   "metadata": {
    "scrolled": false
   },
   "outputs": [],
   "source": [
    "start = time.time()\n",
    "\n",
    "# load all of the images and regions (bgr, hsv, histogram)\n",
    "data = LD.run_load_data(mission_numbers, display_images=False, save_images=False)\n",
    "\n",
    "# original color images\n",
    "mission_images_bgr = data[0]\n",
    "grass_images_bgr = data[1]\n",
    "building_images_bgr = data[2]\n",
    "\n",
    "# histogram normalized color images\n",
    "histogram_mission_images_bgr = data[3]\n",
    "histogram_grass_images_bgr = data[4]\n",
    "histogram_building_images_bgr = data[5]\n",
    "\n",
    "# original hsv images\n",
    "mission_images_hsv = data[6]\n",
    "grass_images_hsv = data[7]\n",
    "building_images_hsv = data[8]\n",
    "\n",
    "# histogram normalized hsv images\n",
    "histogram_mission_images_hsv = data[9]\n",
    "histogram_grass_images_hsv = data[10]\n",
    "histogram_building_images_hsv = data[11]\n",
    "\n",
    "if TIMER: print('Duration: %.3f sec' % (time.time()-start))"
   ]
  },
  {
   "cell_type": "markdown",
   "metadata": {},
   "source": [
    "# Anomaly Detection"
   ]
  },
  {
   "cell_type": "code",
   "execution_count": null,
   "metadata": {
    "scrolled": false
   },
   "outputs": [],
   "source": [
    "start = time.time()\n",
    "\n",
    "# Kyle - anomaly detection\n",
    "#anomaly_masks output have a mask where white equals where the objects are that i detected and everything else equals black.\n",
    "#ACTUALLY VALUES CAN BE ANYTHING MASK = MASK.ASTYPE(BOOL) TO MAKE EVERYTHING 1 OR 0.\n",
    "#NP.SUM WHERE VALUES ARE >= 3 WE KEEP THAT OBJECT ANOMALY.\n",
    "#RETURN 0 OR 1. \n",
    "#ONCE DONE ADD MASK TO VISUALIZE RESULTS.\n",
    "\n",
    "# Alex - anomaly detection\n",
    "anomaly_masks_1 = AF.anomaly_detection_1(mission_numbers, mission_images_hsv, histogram_mission_images_hsv, display_images=False, save_images=False)\n",
    "anomaly_masks_2 = KF.anomaly_detection(regions,45)\n",
    "if TIMER: print('Duration: %.3f sec' % (time.time()-start))"
   ]
  },
  {
   "cell_type": "markdown",
   "metadata": {},
   "source": [
    "# Grass Region Heatmap"
   ]
  },
  {
   "cell_type": "code",
   "execution_count": null,
   "metadata": {
    "scrolled": true
   },
   "outputs": [],
   "source": [
    "start = time.time()\n",
    "\n",
    "# Kyle - heatmap\n",
    "# import import_ipynb\n",
    "# import numpy as np\n",
    "# import KyleFunctions as KF # TODO code needs to be put into function format\n",
    "# import KyleFunctions as KF\n",
    "# import LoadData as LD\n",
    "# import VisualizeResults as VR\n",
    "\n",
    "heatmap,percents, masklist, color_buckets = KF.score_missions(histogram_grass_images_bgr, 10)\n",
    "# print(percents)\n",
    "# AF.plot_images(image_list=masklist)\n",
    "# AF.plot_images(image_list=heatmap)\n",
    "# for each in percents:\n",
    "#      print(np.sum(each))\n",
    "\n",
    "if TIMER: print('Duration: %.3f sec' % (time.time()-start))"
   ]
  },
  {
   "cell_type": "markdown",
   "metadata": {},
   "source": [
    "# Roof"
   ]
  },
  {
   "cell_type": "code",
   "execution_count": null,
   "metadata": {},
   "outputs": [],
   "source": [
    "start = time.time()\n",
    "\n",
    "# Josh - roof\n",
    "\n",
    "roof_masks, roof_anomaly_percentages = JF.findRoofAnomalies(histogram_building_images_hsv)\n",
    "# AF.plot_images(roof_masks, ['roof_masks ' + str(mission_number) for mission_number in mission_numbers])\n",
    "# print(roof_anomaly_percentages)\n",
    "\n",
    "if TIMER: print('Duration: %.3f sec' % (time.time()-start))"
   ]
  },
  {
   "cell_type": "markdown",
   "metadata": {},
   "source": [
    "# Visualize Output"
   ]
  },
  {
   "cell_type": "code",
   "execution_count": null,
   "metadata": {
    "scrolled": false
   },
   "outputs": [],
   "source": [
    "start = time.time()\n",
    "\n",
    "# combine the bounding boxes from anomaly detection\n",
    "# combine the heatmap and roof mask\n",
    "# display histograms, plots, metrics, etc\n",
    "\n",
    "# TODO add all object masks to [anomaly_masks_1, ...] #ADD KYLE MASK AFTER ANOMALY_MASK_1.\n",
    "VR.run_visualize_results(mission_numbers, [anomaly_masks_1], histogram_mission_images_bgr, NUM_BBOX_ITERATIONS, BBOX_COLOR, heatmap, percents, roof_masks, roof_anomaly_percentages, color_buckets, display_images=False, save_images=False)\n",
    "\n",
    "if TIMER: print('Duration: %.3f sec' % (time.time()-start))"
   ]
  },
  {
   "cell_type": "markdown",
   "metadata": {},
   "source": [
    "# Generate Summary Output File"
   ]
  },
  {
   "cell_type": "code",
   "execution_count": null,
   "metadata": {},
   "outputs": [],
   "source": [
    "# GR.generate_report()"
   ]
  }
 ],
 "metadata": {
  "kernelspec": {
   "display_name": "Python 3",
   "language": "python",
   "name": "python3"
  },
  "language_info": {
   "codemirror_mode": {
    "name": "ipython",
    "version": 3
   },
   "file_extension": ".py",
   "mimetype": "text/x-python",
   "name": "python",
   "nbconvert_exporter": "python",
   "pygments_lexer": "ipython3",
   "version": "3.6.4"
  }
 },
 "nbformat": 4,
 "nbformat_minor": 4
}

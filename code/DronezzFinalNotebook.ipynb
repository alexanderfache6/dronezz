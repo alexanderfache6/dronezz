{
 "cells": [
  {
   "cell_type": "markdown",
   "metadata": {},
   "source": [
    "### important: whenever you make changes to an imported notebook you need to select \"restart the kernel\" in this notebook to load the changes then rerun the cells"
   ]
  },
  {
   "cell_type": "code",
   "execution_count": null,
   "metadata": {},
   "outputs": [],
   "source": [
    "# ----------\n",
    "\n",
    "TIMER_ON = True\n",
    "SHOW_PREPROCESSING_RESULTS = True\n",
    "SHOW_INTERMEDIATE_RESULTS = True\n",
    "SHOW_DEBUG_RESULTS = False\n",
    "\n",
    "# ----------\n",
    "\n",
    "REFERENCE_MISSION = 2\n",
    "\n",
    "# ALL\n",
    "# mission_numbers = [REFERENCE_MISSION, 3, 4, 5, 6, 8, 9, 10, 11, 12, 13, 14]\n",
    "# start_index = 0\n",
    "# new_missions = []\n",
    "\n",
    "# DEMO\n",
    "# need to include mission 2 for histogram normalization and alignment\n",
    "# for differencing of only latter missions, can remove mission 2\n",
    "mission_numbers = [REFERENCE_MISSION, 10, 11, 12, 13, 14]\n",
    "start_index = 0\n",
    "new_missions = [15, 16]\n",
    "\n",
    "# ---------- Anomaly Detection\n",
    "\n",
    "MASK_SETTINGS_ALEX = (75, 175, 1, 2, 7, 1) # (lower limit, upper limit, erode radius, erode iterations, dilate radius, dilate iterations)\n",
    "\n",
    "GRASS_SENSITIVITY = 45\n",
    "\n",
    "HEATMAP_ANOMALY_SCORES = [0, 1]\n",
    "\n",
    "# ---------- Heatmap\n",
    "\n",
    "NUM_BUCKETS = 10\n",
    "HEATMAP_SENSITIVITY_MIN = 15\n",
    "HEATMAP_SENSITIVITY_MAX = 37\n",
    "\n",
    "# ---------- Visualization\n",
    "\n",
    "BBOX_COLORS = [(0, 0, 255), (255, 0, 0)] # red, blue\n",
    "NUM_BBOX_ITERATIONS = 2\n",
    "VOTING_SCHEME = 'MAJORITY' # AND, OR, MAJORITY\n",
    "MAJORITY_SUCCESS = 2 # used for majority, number of detection methods that need to agree\n",
    "\n",
    "# ----------"
   ]
  },
  {
   "cell_type": "code",
   "execution_count": null,
   "metadata": {},
   "outputs": [],
   "source": [
    "import import_ipynb\n",
    "\n",
    "import AlexFunctions as AF\n",
    "import JoshFunctions as JF\n",
    "import KyleFunctions as KF\n",
    "\n",
    "import LoadData as LD\n",
    "import ImagePreprocessing as IP\n",
    "import VisualizeResults as VR\n",
    "\n",
    "import numpy as np\n",
    "import time\n",
    "import sys"
   ]
  },
  {
   "cell_type": "markdown",
   "metadata": {},
   "source": [
    "# Preprocess New Mission"
   ]
  },
  {
   "cell_type": "code",
   "execution_count": null,
   "metadata": {
    "scrolled": false
   },
   "outputs": [],
   "source": [
    "if len(new_missions) > 0:\n",
    "    for new_mission in new_missions:\n",
    "        if new_mission in mission_numbers:\n",
    "            sys.exit('Mission number is already included.')\n",
    "\n",
    "        if IP.run_image_preprocessor(mission_number=new_mission, save_results=True, display_results=SHOW_PREPROCESSING_RESULTS):\n",
    "            mission_numbers.append(new_mission)\n",
    "        else:\n",
    "            sys.exit('Data for mission number ' + str(new_mission) + ' does not exist.')\n",
    "\n",
    "print('Mission Numbers:', mission_numbers)"
   ]
  },
  {
   "cell_type": "markdown",
   "metadata": {},
   "source": [
    "# Load Data"
   ]
  },
  {
   "cell_type": "code",
   "execution_count": null,
   "metadata": {},
   "outputs": [],
   "source": [
    "if len(mission_numbers) < 2:\n",
    "    sys.exit('Minimum of 2 missions required.')"
   ]
  },
  {
   "cell_type": "code",
   "execution_count": null,
   "metadata": {
    "scrolled": false
   },
   "outputs": [],
   "source": [
    "start = time.time()\n",
    "\n",
    "# load all of the images and compute normalized versions (bgr, hsv, histogram)\n",
    "data = LD.run_load_data(mission_numbers)\n",
    "\n",
    "# original color images\n",
    "mission_images_bgr = data[0][start_index:]\n",
    "grass_images_bgr = data[1][start_index:]\n",
    "building_images_bgr = data[2][start_index:]\n",
    "\n",
    "# histogram normalized color images\n",
    "histogram_mission_images_bgr = data[3][start_index:]\n",
    "histogram_grass_images_bgr = data[4][start_index:]\n",
    "histogram_building_images_bgr = data[5][start_index:]\n",
    "\n",
    "# original hsv images\n",
    "mission_images_hsv = data[6][start_index:]\n",
    "grass_images_hsv = data[7][start_index:]\n",
    "building_images_hsv = data[8][start_index:]\n",
    "\n",
    "# histogram normalized hsv images\n",
    "histogram_mission_images_hsv = data[9][start_index:]\n",
    "histogram_grass_images_hsv = data[10][start_index:]\n",
    "histogram_building_images_hsv = data[11][start_index:]\n",
    "\n",
    "mission_numbers = mission_numbers[start_index:]\n",
    "print('Mission Numbers:', mission_numbers)\n",
    "\n",
    "if TIMER_ON: print('Duration: %.3f sec' % (time.time()-start))"
   ]
  },
  {
   "cell_type": "code",
   "execution_count": null,
   "metadata": {
    "scrolled": false
   },
   "outputs": [],
   "source": [
    "if SHOW_INTERMEDIATE_RESULTS:\n",
    "    AF.plot_images(image_list=mission_images_bgr)\n",
    "    AF.plot_images(image_list=grass_images_bgr)\n",
    "    AF.plot_images(image_list=building_images_bgr)\n",
    "    \n",
    "    AF.plot_images(image_list=histogram_mission_images_bgr)\n",
    "    AF.plot_images(image_list=histogram_grass_images_bgr)\n",
    "    AF.plot_images(image_list=histogram_building_images_bgr)\n",
    "    \n",
    "    AF.plot_images(image_list=mission_images_hsv)\n",
    "    AF.plot_images(image_list=grass_images_hsv)\n",
    "    AF.plot_images(image_list=building_images_hsv)\n",
    "    \n",
    "    AF.plot_images(image_list=histogram_mission_images_hsv)\n",
    "    AF.plot_images(image_list=histogram_grass_images_hsv)\n",
    "    AF.plot_images(image_list=histogram_building_images_hsv)"
   ]
  },
  {
   "cell_type": "markdown",
   "metadata": {},
   "source": [
    "# Anomaly Detection + Grass Region Heatmap"
   ]
  },
  {
   "cell_type": "code",
   "execution_count": null,
   "metadata": {
    "scrolled": false
   },
   "outputs": [],
   "source": [
    "start = time.time()\n",
    "\n",
    "# Alex - anomaly detection\n",
    "anomaly_masks_1 = AF.anomaly_detection_1(mission_numbers, mission_images_hsv, histogram_mission_images_hsv, mask_settings=MASK_SETTINGS_ALEX, display_images=SHOW_DEBUG_RESULTS)\n",
    "\n",
    "# Kyle - anomaly detection\n",
    "anomaly_masks_2 = KF.anomaly_detection(grass_images_bgr, GRASS_SENSITIVITY)\n",
    "\n",
    "# Kyle - heatmap + anomaly detection\n",
    "heatmap, heatmap_percents, _, color_buckets, _, raw_anomaly_masks_3, anomaly_masks_3 = KF.score_missions(histogram_grass_images_bgr, NUM_BUCKETS, HEATMAP_ANOMALY_SCORES, HEATMAP_SENSITIVITY_MIN, HEATMAP_SENSITIVITY_MAX)\n",
    "\n",
    "if TIMER_ON: print('Duration: %.3f sec' % (time.time()-start))"
   ]
  },
  {
   "cell_type": "code",
   "execution_count": null,
   "metadata": {
    "scrolled": false
   },
   "outputs": [],
   "source": [
    "if SHOW_INTERMEDIATE_RESULTS:\n",
    "    AF.plot_images(image_list=anomaly_masks_1)\n",
    "    AF.plot_images(image_list=anomaly_masks_2)\n",
    "    AF.plot_images(image_list=anomaly_masks_3)\n",
    "    AF.plot_images(image_list=heatmap)"
   ]
  },
  {
   "cell_type": "markdown",
   "metadata": {},
   "source": [
    "# Roof Anomaly"
   ]
  },
  {
   "cell_type": "code",
   "execution_count": null,
   "metadata": {},
   "outputs": [],
   "source": [
    "start = time.time()\n",
    "\n",
    "roof_masks, roof_anomaly_percentages = JF.findRoofAnomalies(histogram_building_images_hsv)\n",
    "\n",
    "if TIMER_ON: print('Duration: %.3f sec' % (time.time()-start))"
   ]
  },
  {
   "cell_type": "code",
   "execution_count": null,
   "metadata": {},
   "outputs": [],
   "source": [
    "if SHOW_INTERMEDIATE_RESULTS:\n",
    "    AF.plot_images(roof_masks)"
   ]
  },
  {
   "cell_type": "markdown",
   "metadata": {},
   "source": [
    "# Visualize Results"
   ]
  },
  {
   "cell_type": "code",
   "execution_count": null,
   "metadata": {
    "scrolled": false
   },
   "outputs": [],
   "source": [
    "start = time.time()\n",
    "\n",
    "VR.run_visualize_results(mission_numbers, [anomaly_masks_1, anomaly_masks_2, anomaly_masks_3], histogram_mission_images_bgr, NUM_BBOX_ITERATIONS, BBOX_COLORS, heatmap, heatmap_percents, roof_masks, roof_anomaly_percentages, color_buckets, voting_scheme=VOTING_SCHEME, majority_success=MAJORITY_SUCCESS, display_images=False)\n",
    "\n",
    "if TIMER_ON: print('Duration: %.3f sec' % (time.time()-start))"
   ]
  },
  {
   "cell_type": "code",
   "execution_count": null,
   "metadata": {},
   "outputs": [],
   "source": [
    "print(\"List the bucket values separated by commas that you would like to see plotted i.e 1,2,5\")\n",
    "temp_list = input()\n",
    "temp_list = temp_list.split(\",\")\n",
    "bucket_list = []\n",
    "for each in temp_list:\n",
    "    bucket_list.append(int(each)) #each is a string so convert to integer\n",
    "\n",
    "VR.display_heatmap_change_scores(mission_numbers, np.array(heatmap_percents), color_buckets, scores=bucket_list)"
   ]
  }
 ],
 "metadata": {
  "kernelspec": {
   "display_name": "Python 3",
   "language": "python",
   "name": "python3"
  },
  "language_info": {
   "codemirror_mode": {
    "name": "ipython",
    "version": 3
   },
   "file_extension": ".py",
   "mimetype": "text/x-python",
   "name": "python",
   "nbconvert_exporter": "python",
   "pygments_lexer": "ipython3",
   "version": "3.6.8"
  }
 },
 "nbformat": 4,
 "nbformat_minor": 4
}

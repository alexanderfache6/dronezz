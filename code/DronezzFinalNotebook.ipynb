{
 "cells": [
  {
   "cell_type": "code",
   "execution_count": 11,
   "metadata": {},
   "outputs": [],
   "source": [
    "#All imports from everywhere\n",
    "import copy\n",
    "import cv2\n",
    "import matplotlib.pyplot as plt\n",
    "import numpy as np\n",
    "import os\n",
    "from skimage import exposure\n",
    "from skimage.morphology import area_opening, disk, square\n",
    "import sys\n",
    "import matplotlib as mpl\n",
    "from PIL import ImageColor\n",
    "import imutils\n",
    "from skimage.measure import compare_ssim"
   ]
  },
  {
   "cell_type": "code",
   "execution_count": 18,
   "metadata": {},
   "outputs": [],
   "source": [
    "# parameters\n",
    "\n",
    "REFERENCE_MISSION = 2\n",
    "mission_numbers = [REFERENCE_MISSION, 3, 4, 5, 6, 8, 9, 10, 11, 12, 13, 14]\n",
    "\n",
    "BBOX_COLOR = (255, 0, 0)"
   ]
  },
  {
   "cell_type": "code",
   "execution_count": 15,
   "metadata": {},
   "outputs": [
    {
     "name": "stdout",
     "output_type": "stream",
     "text": [
      "test\n"
     ]
    }
   ],
   "source": [
    "# Call Kyle Functions\n",
    "import import_ipynb\n",
    "import KyleFunctions as KF\n",
    "import AlexFunctions as AF\n",
    "import LoadData as LD\n",
    "\n",
    "KF.kyle_print(\"test\")\n",
    "# regions = AF.setup_regions_and_images()\n",
    "# AF.plot_images(regions)"
   ]
  },
  {
   "cell_type": "markdown",
   "metadata": {},
   "source": [
    "# Load Data"
   ]
  },
  {
   "cell_type": "code",
   "execution_count": null,
   "metadata": {},
   "outputs": [],
   "source": [
    "# load all of the images and regions (bgr, hsv, histogram)\n",
    "data = LD.run_load_data(mission_numbers)\n",
    "\n",
    "mission_images_bgr = data[0]\n",
    "grass_images_bgr = data[1]\n",
    "building_images_bgr = data[2]\n",
    "histogram_mission_images_bgr = data[3]\n",
    "histogram_grass_images_bgr = data[4]\n",
    "histogram_building_images_bgr = data[5]\n",
    "mission_images_hsv = data[6]\n",
    "histogram_mission_images_hsv = data[7]\n",
    "histogram_grass_images_hsv = data[8]\n",
    "histogram_building_images_hsv = data[9]"
   ]
  },
  {
   "cell_type": "markdown",
   "metadata": {},
   "source": [
    "# Anomaly Detection"
   ]
  },
  {
   "cell_type": "code",
   "execution_count": null,
   "metadata": {},
   "outputs": [],
   "source": [
    "# Kyle - anomaly detection\n",
    "\n",
    "\n",
    "# Alex - anomaly detection\n",
    "bbox_masks, num_bboxs, superimposed_images = anomaly_detection_1(mission_numbers, mission_images_hsv, histogram_mission_images_bgr, histogram_mission_images_hsv, bbox_color=BBOX_COLOR)"
   ]
  },
  {
   "cell_type": "markdown",
   "metadata": {},
   "source": [
    "# Heatmap"
   ]
  },
  {
   "cell_type": "code",
   "execution_count": null,
   "metadata": {},
   "outputs": [],
   "source": [
    "# Kyle - heatmap\n"
   ]
  },
  {
   "cell_type": "markdown",
   "metadata": {},
   "source": [
    "# Roof"
   ]
  },
  {
   "cell_type": "code",
   "execution_count": null,
   "metadata": {},
   "outputs": [],
   "source": [
    "# Josh - roof"
   ]
  },
  {
   "cell_type": "markdown",
   "metadata": {},
   "source": [
    "# Visualize Output"
   ]
  },
  {
   "cell_type": "code",
   "execution_count": 17,
   "metadata": {},
   "outputs": [],
   "source": [
    "# combine the bounding boxes from anomaly detection\n",
    "# combine the heatmap and roof mask\n",
    "# display histograms, plots, metrics"
   ]
  }
 ],
 "metadata": {
  "kernelspec": {
   "display_name": "Python 3",
   "language": "python",
   "name": "python3"
  },
  "language_info": {
   "codemirror_mode": {
    "name": "ipython",
    "version": 3
   },
   "file_extension": ".py",
   "mimetype": "text/x-python",
   "name": "python",
   "nbconvert_exporter": "python",
   "pygments_lexer": "ipython3",
   "version": "3.6.8"
  }
 },
 "nbformat": 4,
 "nbformat_minor": 4
}

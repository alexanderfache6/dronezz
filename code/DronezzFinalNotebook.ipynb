{
 "cells": [
  {
   "cell_type": "markdown",
   "metadata": {},
   "source": [
    "### important: whenever you make changes to an imported notebook you need to select \"restart the kernel\" in this notebook to load the changes then rerun the cells"
   ]
  },
  {
   "cell_type": "code",
   "execution_count": null,
   "metadata": {},
   "outputs": [],
   "source": [
    "# I think we need to include the individual inputs in each file\n",
    "\n",
    "# #All imports from everywhere\n",
    "# import copy\n",
    "# import cv2\n",
    "# import imutils\n",
    "# import matplotlib as mpl\n",
    "# import matplotlib.pyplot as plt\n",
    "# import numpy as np\n",
    "# import os\n",
    "# from PIL import ImageColor\n",
    "# from skimage import exposure\n",
    "# from skimage.measure import label, regionprops\n",
    "# from skimage.morphology import area_opening, disk, square\n",
    "# import sys"
   ]
  },
  {
   "cell_type": "code",
   "execution_count": null,
   "metadata": {},
   "outputs": [],
   "source": [
    "# parameters\n",
    "\n",
    "REFERENCE_MISSION = 2\n",
    "mission_numbers = [REFERENCE_MISSION, 3, 4, 5, 6, 8, 9, 10, 11, 12, 13, 14]\n",
    "\n",
    "# Alex - anomaly detection\n",
    "BBOX_COLOR = (255, 0, 0)\n",
    "DEBUG_IMAGES = False\n",
    "NUM_BBOX_ITERATIONS = 2"
   ]
  },
  {
   "cell_type": "code",
   "execution_count": null,
   "metadata": {},
   "outputs": [],
   "source": [
    "import import_ipynb\n",
    "import KyleFunctions as KF\n",
    "import AlexFunctions as AF\n",
    "import JoshFunctions as JF\n",
    "import LoadData as LD\n",
    "import VisualizeResults as VR"
   ]
  },
  {
   "cell_type": "markdown",
   "metadata": {},
   "source": [
    "# Load Data"
   ]
  },
  {
   "cell_type": "code",
   "execution_count": null,
   "metadata": {},
   "outputs": [],
   "source": [
    "# load all of the images and regions (bgr, hsv, histogram)\n",
    "data = LD.run_load_data(mission_numbers, debug_images=False)\n",
    "\n",
    "# original color images\n",
    "mission_images_bgr = data[0]\n",
    "grass_images_bgr = data[1]\n",
    "building_images_bgr = data[2]\n",
    "\n",
    "# histogram normalized color images\n",
    "histogram_mission_images_bgr = data[3]\n",
    "histogram_grass_images_bgr = data[4]\n",
    "histogram_building_images_bgr = data[5]\n",
    "\n",
    "# original hsv images\n",
    "mission_images_hsv = data[6]\n",
    "grass_images_hsv = data[7]\n",
    "building_images_hsv = data[8]\n",
    "\n",
    "# histogram normalized hsv images\n",
    "histogram_mission_images_hsv = data[9]\n",
    "histogram_grass_images_hsv = data[10]\n",
    "histogram_building_images_hsv = data[11]"
   ]
  },
  {
   "cell_type": "markdown",
   "metadata": {},
   "source": [
    "# Anomaly Detection"
   ]
  },
  {
   "cell_type": "code",
   "execution_count": null,
   "metadata": {
    "scrolled": false
   },
   "outputs": [],
   "source": [
    "# Kyle - anomaly detection\n",
    "\n",
    "\n",
    "# Alex - anomaly detection\n",
    "# bbox_masks, num_bboxs, superimposed_images = AF.anomaly_detection_1(mission_numbers, mission_images_hsv, histogram_mission_images_bgr, histogram_mission_images_hsv, num_bbox_iterations=NUM_BBOX_ITERATIONS, bbox_color=BBOX_COLOR, debug_images=False)\n",
    "\n",
    "# print(num_bboxs)\n",
    "# AF.plot_images(bbox_masks, ['bbox_masks ' + str(mission_number) for mission_number in mission_numbers])\n",
    "# AF.plot_images(superimposed_images, ['superimposed_images ' + str(mission_number) for mission_number in mission_numbers])"
   ]
  },
  {
   "cell_type": "markdown",
   "metadata": {},
   "source": [
    "# Heatmap"
   ]
  },
  {
   "cell_type": "code",
   "execution_count": null,
   "metadata": {},
   "outputs": [],
   "source": [
    "# Kyle - heatmap\n",
    "import import_ipynb\n",
    "import numpy as np\n",
    "# import KyleFunctions as KF # TODO code needs to be put into function format\n",
    "import KyleFunctions as KF\n",
    "import LoadData as LD\n",
    "import VisualizeResults as VR\n",
    "\n",
    "heatmap,percents = KF.score_missions(histogram_grass_images_bgr, 5)\n",
    "print(percents)\n",
    "AF.plot_images(image_list=heatmap)\n",
    "for each in percents:\n",
    "    print(np.sum(each))"
   ]
  },
  {
   "cell_type": "markdown",
   "metadata": {},
   "source": [
    "# Roof"
   ]
  },
  {
   "cell_type": "code",
   "execution_count": null,
   "metadata": {},
   "outputs": [],
   "source": [
    "# Josh - roof\n",
    "\n",
    "roof_masks, roof_anomaly_percentages = JF.findRoofAnomalies(histogram_building_images_hsv)\n",
    "AF.plot_images(roof_masks, ['roof_masks ' + str(mission_number) for mission_number in mission_numbers])\n",
    "print(roof_anomaly_percentages)"
   ]
  },
  {
   "cell_type": "markdown",
   "metadata": {},
   "source": [
    "# Visualize Output"
   ]
  },
  {
   "cell_type": "code",
   "execution_count": null,
   "metadata": {
    "scrolled": false
   },
   "outputs": [],
   "source": [
    "# combine the bounding boxes from anomaly detection\n",
    "# combine the heatmap and roof mask\n",
    "# display histograms, plots, metrics, etc\n",
    "\n",
    "VR.run_visualize_results(mission_numbers, [], histogram_mission_images_bgr, heatmap, percents, roof_masks, roof_anomaly_percentages, debug_images=False)"
   ]
  },
  {
   "cell_type": "code",
   "execution_count": null,
   "metadata": {},
   "outputs": [],
   "source": []
  }
 ],
 "metadata": {
  "kernelspec": {
   "display_name": "Python 3",
   "language": "python",
   "name": "python3"
  },
  "language_info": {
   "codemirror_mode": {
    "name": "ipython",
    "version": 3
   },
   "file_extension": ".py",
   "mimetype": "text/x-python",
   "name": "python",
   "nbconvert_exporter": "python",
   "pygments_lexer": "ipython3",
   "version": "3.6.8"
  }
 },
 "nbformat": 4,
 "nbformat_minor": 4
}

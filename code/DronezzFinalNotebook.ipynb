{
 "cells": [
  {
   "cell_type": "markdown",
   "metadata": {},
   "source": [
    "### important: whenever you make changes to an imported notebook you need to select \"restart the kernel\" in this notebook to load the changes then rerun the cells"
   ]
  },
  {
   "cell_type": "code",
   "execution_count": null,
   "metadata": {},
   "outputs": [],
   "source": [
    "# parameters\n",
    "TIMER = True\n",
    "REFERENCE_MISSION = 2\n",
    "mission_numbers = [REFERENCE_MISSION, 3, 4, 5, 6, 8, 9, 10, 11, 12, 13, 14]\n",
    "\n",
    "BBOX_COLOR = (0, 0, 255)\n",
    "DEBUG_IMAGES = True\n",
    "NUM_BBOX_ITERATIONS = 2"
   ]
  },
  {
   "cell_type": "code",
   "execution_count": null,
   "metadata": {},
   "outputs": [],
   "source": [
    "import import_ipynb\n",
    "import KyleFunctions as KF\n",
    "import AlexFunctions as AF\n",
    "import JoshFunctions as JF\n",
    "import LoadData as LD\n",
    "import VisualizeResults as VR\n",
    "\n",
    "import time\n",
    "import numpy as np"
   ]
  },
  {
   "cell_type": "markdown",
   "metadata": {},
   "source": [
    "# Load Data"
   ]
  },
  {
   "cell_type": "code",
   "execution_count": null,
   "metadata": {
    "scrolled": false
   },
   "outputs": [],
   "source": [
    "start = time.time()\n",
    "\n",
    "# load all of the images and regions (bgr, hsv, histogram)\n",
    "data = LD.run_load_data(mission_numbers, debug_images=False, save_images=False)\n",
    "\n",
    "# original color images\n",
    "mission_images_bgr = data[0]\n",
    "grass_images_bgr = data[1]\n",
    "building_images_bgr = data[2]\n",
    "\n",
    "# histogram normalized color images\n",
    "histogram_mission_images_bgr = data[3]\n",
    "histogram_grass_images_bgr = data[4]\n",
    "histogram_building_images_bgr = data[5]\n",
    "\n",
    "# original hsv images\n",
    "mission_images_hsv = data[6]\n",
    "grass_images_hsv = data[7]\n",
    "building_images_hsv = data[8]\n",
    "\n",
    "# histogram normalized hsv images\n",
    "histogram_mission_images_hsv = data[9]\n",
    "histogram_grass_images_hsv = data[10]\n",
    "histogram_building_images_hsv = data[11]\n",
    "\n",
    "if TIMER: print('Duration: %.3f sec' % (time.time()-start))"
   ]
  },
  {
   "cell_type": "markdown",
   "metadata": {},
   "source": [
    "# Anomaly Detection"
   ]
  },
  {
   "cell_type": "code",
   "execution_count": null,
   "metadata": {
    "scrolled": false
   },
   "outputs": [],
   "source": [
    "start = time.time()\n",
    "\n",
    "# Kyle - anomaly detection\n",
    "\n",
    "\n",
    "# Alex - anomaly detection\n",
    "anomaly_masks_1 = AF.anomaly_detection_1(mission_numbers, mission_images_hsv, histogram_mission_images_hsv, debug_images=False)\n",
    "\n",
    "if TIMER: print('Duration: %.3f sec' % (time.time()-start))"
   ]
  },
  {
   "cell_type": "markdown",
   "metadata": {},
   "source": [
    "# Grass Region Heatmap"
   ]
  },
  {
   "cell_type": "code",
   "execution_count": null,
   "metadata": {},
   "outputs": [],
   "source": [
    "start = time.time()\n",
    "\n",
    "# Kyle - heatmap\n",
    "# import import_ipynb\n",
    "# import numpy as np\n",
    "# import KyleFunctions as KF # TODO code needs to be put into function format\n",
    "# import KyleFunctions as KF\n",
    "# import LoadData as LD\n",
    "# import VisualizeResults as VR\n",
    "\n",
    "heatmap,percents = KF.score_missions(histogram_grass_images_bgr, 10)\n",
    "# print(percents)\n",
    "# AF.plot_images(image_list=heatmap)\n",
    "# for each in percents:\n",
    "#     print(np.sum(each))\n",
    "\n",
    "if TIMER: print('Duration: %.3f sec' % (time.time()-start))"
   ]
  },
  {
   "cell_type": "markdown",
   "metadata": {},
   "source": [
    "# Roof"
   ]
  },
  {
   "cell_type": "code",
   "execution_count": null,
   "metadata": {},
   "outputs": [],
   "source": [
    "start = time.time()\n",
    "\n",
    "# Josh - roof\n",
    "\n",
    "roof_masks, roof_anomaly_percentages = JF.findRoofAnomalies(histogram_building_images_hsv)\n",
    "AF.plot_images(roof_masks, ['roof_masks ' + str(mission_number) for mission_number in mission_numbers])\n",
    "print(roof_anomaly_percentages)\n",
    "\n",
    "if TIMER: print('Duration: %.3f sec' % (time.time()-start))"
   ]
  },
  {
   "cell_type": "markdown",
   "metadata": {},
   "source": [
    "# Visualize Output"
   ]
  },
  {
   "cell_type": "code",
   "execution_count": null,
   "metadata": {
    "scrolled": false
   },
   "outputs": [],
   "source": [
    "start = time.time()\n",
    "\n",
    "# combine the bounding boxes from anomaly detection\n",
    "# combine the heatmap and roof mask\n",
    "# display histograms, plots, metrics, etc\n",
    "\n",
    "# TODO add all object masks to [anomaly_masks_1, ...]\n",
    "VR.run_visualize_results(mission_numbers, [anomaly_masks_1], histogram_mission_images_bgr, NUM_BBOX_ITERATIONS, BBOX_COLOR, heatmap, percents, roof_masks, roof_anomaly_percentages, debug_images=False)\n",
    "\n",
    "if TIMER: print('Duration: %.3f sec' % (time.time()-start))"
   ]
  },
  {
   "cell_type": "markdown",
   "metadata": {},
   "source": [
    "# Generate Summary Output File"
   ]
  },
  {
   "cell_type": "code",
   "execution_count": null,
   "metadata": {},
   "outputs": [],
   "source": [
    "from fpdf import FPDF\n",
    "\n",
    "class PDF(FPDF):\n",
    "    def footer(self): # automatically called by add_page()\n",
    "        self.set_y(-30)\n",
    "        self.set_font('Arial', '', 8)\n",
    "        self.cell(0, 10, 'Dronezz - %s' % self.page_no(), 0, 0, 'R')\n",
    "\n",
    "def display_header(text='', align='L'):\n",
    "    pdf.set_font('Arial', 'B', 12)\n",
    "    pdf.cell(w=0, h=24, txt=text, border=0, ln=1, align=align, fill=False)\n",
    "    \n",
    "def display_text(text='', align='L'):\n",
    "    pdf.set_font('Arial', '', 8)\n",
    "    pdf.multi_cell(w=0, h=16, txt=text, border=0, align=align, fill=False)\n",
    "\n",
    "# ----------------------------------------\n",
    "\n",
    "pdf = PDF(orientation='Portrait', unit='pt', format='Letter')\n",
    "pdf.add_page()\n",
    "\n",
    "# ----------------------------------------\n",
    "\n",
    "pdf.set_font('Arial', 'B', 24)\n",
    "text = 'Dronezz'\n",
    "pdf.cell(w=0, h=30, txt=text, border=0, ln=1, align='C', fill=False)\n",
    "\n",
    "pdf.set_font('Arial', 'B', 16)\n",
    "text = 'description'\n",
    "pdf.cell(w=0, h=30, txt=text, border=0, ln=1, align='C', fill=False)\n",
    "\n",
    "text = 'Alex Faché, Mason Heim, Josh Moore, Kyle Turner\\nGeorgia Institute of Technology - School of Electrical and Computer Engineering\\nECE 4011 Spring 2020, ECE 4873 Fall 2020'\n",
    "display_text(text, align='C')\n",
    "\n",
    "# ----------------------------------------\n",
    "\n",
    "text = 'Data'\n",
    "display_header(text)\n",
    "\n",
    "text = 'The images for this project were collected using a commerical Parrot Anafi quadcopter, utilizing the onboard color camera and Pix4Dcapture missiong planning. Each image was taken at an altitude of 40m resulting ' \\\n",
    "    'in a ground resultion of 1.34 cm/pixel. The area in question spans 79x82m resulting in 54 overlapping images that were combined to form a single image using Pix4Dmapper'\n",
    "display_text(text)\n",
    "\n",
    "# ----------------------------------------\n",
    "\n",
    "text = 'Histogram Normalized'\n",
    "display_header(text)\n",
    "\n",
    "text = 'Histogram normalization was applied to best remove the variation in brightness due to the Sun and clouds. Mission 2 was used as the reference mission for each normalization.'\n",
    "display_text(text)\n",
    "\n",
    "pdf.image(name='..\\\\report_images\\\\1.png', w=100, h=100, type='PNG')\n",
    "\n",
    "# ----------------------------------------\n",
    "\n",
    "pdf.add_page()\n",
    "\n",
    "text = 'Bounding Boxes'\n",
    "display_header(text)\n",
    "\n",
    "text = 'text'\n",
    "display_text(text)\n",
    "\n",
    "# ----------------------------------------\n",
    "\n",
    "text = 'Anomaly Detection'\n",
    "display_header(text)\n",
    "\n",
    "text = 'text'\n",
    "display_text(text)\n",
    "\n",
    "# ----------------------------------------\n",
    "\n",
    "text = 'Heatmaps'\n",
    "display_header(text)\n",
    "\n",
    "text = 'text'\n",
    "display_text(text)\n",
    "\n",
    "# ----------------------------------------\n",
    "\n",
    "text = 'Results'\n",
    "display_header(text)\n",
    "\n",
    "text = 'text'\n",
    "display_text(text)\n",
    "\n",
    "# ----------------------------------------\n",
    "\n",
    "pdf.output('auto_generated_report.pdf', 'F')"
   ]
  },
  {
   "cell_type": "code",
   "execution_count": null,
   "metadata": {},
   "outputs": [],
   "source": []
  }
 ],
 "metadata": {
  "kernelspec": {
   "display_name": "Python 3",
   "language": "python",
   "name": "python3"
  },
  "language_info": {
   "codemirror_mode": {
    "name": "ipython",
    "version": 3
   },
   "file_extension": ".py",
   "mimetype": "text/x-python",
   "name": "python",
   "nbconvert_exporter": "python",
   "pygments_lexer": "ipython3",
   "version": "3.6.8"
  }
 },
 "nbformat": 4,
 "nbformat_minor": 4
}

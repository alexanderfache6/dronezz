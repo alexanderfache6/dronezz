{
 "cells": [
  {
   "cell_type": "markdown",
   "metadata": {},
   "source": [
    "# All Parameters"
   ]
  },
  {
   "cell_type": "code",
   "execution_count": null,
   "metadata": {},
   "outputs": [],
   "source": [
    "REFERENCE_MISSION = 2\n",
    "mission_numbers = [REFERENCE_MISSION, 3, 4, 5, 6, 8, 9, 10, 11]\n",
    "display_images = False"
   ]
  },
  {
   "cell_type": "code",
   "execution_count": null,
   "metadata": {},
   "outputs": [],
   "source": [
    "BBOX_COLOR = (255, 0, 0)"
   ]
  },
  {
   "cell_type": "markdown",
   "metadata": {},
   "source": [
    "# All Imports"
   ]
  },
  {
   "cell_type": "code",
   "execution_count": null,
   "metadata": {},
   "outputs": [],
   "source": [
    "import copy\n",
    "import cv2\n",
    "import matplotlib.pyplot as plt\n",
    "import numpy as np\n",
    "import os\n",
    "from skimage import exposure\n",
    "from skimage.morphology import area_opening, disk, square\n",
    "import sys"
   ]
  },
  {
   "cell_type": "code",
   "execution_count": null,
   "metadata": {},
   "outputs": [],
   "source": [
    "# files\n"
   ]
  },
  {
   "cell_type": "markdown",
   "metadata": {},
   "source": [
    "# All Functions"
   ]
  },
  {
   "cell_type": "code",
   "execution_count": null,
   "metadata": {},
   "outputs": [],
   "source": [
    "def plot_images(image_list, title_list=[], grid='off', size_per_image=10):\n",
    "    fig, axes = plt.subplots(nrows=1, ncols=len(image_list), figsize=(size_per_image*len(image_list), size_per_image*1))\n",
    "    if len(image_list) == 1:\n",
    "        axes = [axes]\n",
    "\n",
    "    for i, ax in enumerate(axes):\n",
    "        ax.imshow(cv2.cvtColor(image_list[i], cv2.COLOR_BGR2RGB))\n",
    "        if len(title_list) > 0:\n",
    "            ax.set_title(title_list[i])\n",
    "        ax.axis(grid)"
   ]
  },
  {
   "cell_type": "code",
   "execution_count": null,
   "metadata": {},
   "outputs": [],
   "source": [
    "def get_mission_file_path(mission_number):\n",
    "    return '..\\\\missions\\\\mission_' + str(mission_number) + '\\\\mission_' + str(mission_number) + '_'"
   ]
  },
  {
   "cell_type": "code",
   "execution_count": null,
   "metadata": {},
   "outputs": [],
   "source": [
    "def get_global_image(mission_number, get_normalized=False):\n",
    "    if get_normalized:\n",
    "        mission = np.load(get_mission_file_path(mission_number) + 'normalized_image.npy')\n",
    "    else:\n",
    "        mission = np.load(get_mission_file_path(mission_number) + 'aligned_image.npy')\n",
    "    \n",
    "    return mission"
   ]
  },
  {
   "cell_type": "code",
   "execution_count": null,
   "metadata": {},
   "outputs": [],
   "source": [
    "def get_region_and_sample_image(mission_number, region_name, get_normalized=False):\n",
    "    if get_normalized:\n",
    "        region = np.load(get_mission_file_path(mission_number) + 'normalized_region_image_' + region_name + '.npy')\n",
    "        sample = np.load(get_mission_file_path(mission_number) + 'normalized_sample_image_' + region_name + '.npy')\n",
    "    else:\n",
    "        region = np.load(get_mission_file_path(mission_number) + 'aligned_region_image_' + region_name + '.npy')\n",
    "        sample = np.load(get_mission_file_path(mission_number) + 'aligned_sample_image_' + region_name + '.npy')\n",
    "    \n",
    "    return region, sample"
   ]
  },
  {
   "cell_type": "code",
   "execution_count": null,
   "metadata": {},
   "outputs": [],
   "source": []
  },
  {
   "cell_type": "code",
   "execution_count": null,
   "metadata": {},
   "outputs": [],
   "source": [
    "# BOUNDING BOX\n",
    "\n",
    "from skimage.measure import label, regionprops\n",
    "\n",
    "def create_bounding_boxes(masks, output_images, display_bbox=True, display_output=True, num_bbox_iterations=1, bbox_color=(255, 0, 0)):\n",
    "\n",
    "    temp = copy.deepcopy(masks)\n",
    "    temp_bounding_box_masks = []\n",
    "\n",
    "    num_bbox = []\n",
    "    \n",
    "    for k in range(0, num_bbox_iterations):\n",
    "        print('Iter:', k)\n",
    "        bounding_box_masks = []\n",
    "\n",
    "        for i in range(0, len(temp)):\n",
    "            label_ = label(temp[i])\n",
    "            props_ = regionprops(label_)\n",
    "            bounding_mask = np.zeros((temp[i].shape)).astype(np.uint8)\n",
    "\n",
    "            print('# bbox:', len(props_))\n",
    "            if k == num_bbox_iterations-1:\n",
    "                num_bbox.append(len(props_))\n",
    "\n",
    "            factor = 0\n",
    "            for prop in props_:\n",
    "        #         print('bbox', prop.bbox)\n",
    "                if k == num_bbox_iterations-1:\n",
    "                    cv2.rectangle(bounding_mask, (prop.bbox[1], prop.bbox[0]), (prop.bbox[3], prop.bbox[2]), (255, 0, 0), 2)\n",
    "                else:\n",
    "                    cv2.rectangle(bounding_mask, (prop.bbox[1]-factor, prop.bbox[0]-factor), (prop.bbox[3]+2*factor, prop.bbox[2]+2*factor), bbox_color, 2)\n",
    "\n",
    "            bounding_box_masks.append(bounding_mask)\n",
    "\n",
    "        temp_bounding_box_masks.append(copy.deepcopy(bounding_box_masks))\n",
    "        temp = copy.deepcopy(bounding_box_masks)\n",
    "    \n",
    "    if display_bbox:\n",
    "        for k in range(0, num_bbox_iterations):\n",
    "            plot_images(temp_bounding_box_masks[k], ['bounding_box_masks ' + str(mission_number) for mission_number in mission_numbers])\n",
    "    \n",
    "    results = []\n",
    "    for i in range(0, len(mission_numbers)):\n",
    "        result = copy.deepcopy(output_images[i])\n",
    "        result[temp_bounding_box_masks[num_bbox_iterations-1][i].astype(bool), :] = [0, 0, 255]\n",
    "        results.append(result)\n",
    "        \n",
    "    if display_output:\n",
    "        # differences wrt mission 2\n",
    "        for i in range(0, len(mission_numbers)):\n",
    "            plot_images([histogram_mission_images_bgr[0], results[i]], ['reference', 'result ' + str(mission_numbers[i])], size_per_image=3)\n",
    "            \n",
    "    return bounding_box_masks, num_bbox, results"
   ]
  },
  {
   "cell_type": "code",
   "execution_count": null,
   "metadata": {},
   "outputs": [],
   "source": [
    "# COLOR GRADIENT\n",
    "\n",
    "import matplotlib as mpl\n",
    "from PIL import ImageColor\n",
    "\n",
    "def color_fader(cs, mix=0):\n",
    "    if len(cs) == 2:\n",
    "        c1 = np.array(mpl.colors.to_rgb(cs[0]))\n",
    "        c2 = np.array(mpl.colors.to_rgb(cs[1]))\n",
    "        return mpl.colors.to_hex((1-mix)*c1 + mix*c2)\n",
    "    elif len(cs) == 3:\n",
    "        c1 = np.array(mpl.colors.to_rgb(cs[0]))\n",
    "        c2 = np.array(mpl.colors.to_rgb(cs[1]))\n",
    "        c3 = np.array(mpl.colors.to_rgb(cs[2]))\n",
    "        if mix <= .5:\n",
    "            mix *= 2 # create 0-1 range\n",
    "            return mpl.colors.to_hex((1-mix)*c1 + mix*c2)\n",
    "        else:\n",
    "            mix -= .5 # create 0-1 range\n",
    "            mix *= 2\n",
    "            return mpl.colors.to_hex((1-mix)*c2 + mix*c3)\n",
    "\n",
    "def create_color_buckets(colors=['#FF0000', '#00FF00'], num_buckets=10, display=True): #RGB\n",
    "    color_buckets = []\n",
    "\n",
    "    if display:\n",
    "        fig, ax = plt.subplots(figsize=(4, 2))\n",
    "    \n",
    "    for x in range(0, num_buckets):\n",
    "        X = color_fader(colors, x/(num_buckets-1))\n",
    "        \n",
    "        if display:\n",
    "            ax.axvline(x, color=X, linewidth=4)\n",
    "        \n",
    "        color_buckets.append(ImageColor.getcolor(X, \"RGB\")[::-1]) # convert RGB to BGR\n",
    "\n",
    "    if display:\n",
    "        plt.axis('off')\n",
    "        plt.show()\n",
    "\n",
    "    return color_buckets"
   ]
  },
  {
   "cell_type": "code",
   "execution_count": null,
   "metadata": {},
   "outputs": [],
   "source": [
    "# HISTOGRAM MATCHING\n",
    "\n",
    "# https://automaticaddison.com/how-to-do-histogram-matching-using-opencv/\n",
    "\n",
    "def calculate_cdf(histogram):\n",
    "    \"\"\"\n",
    "    This method calculates the cumulative distribution function\n",
    "    :param array histogram: The values of the histogram\n",
    "    :return: normalized_cdf: The normalized cumulative distribution function\n",
    "    :rtype: array\n",
    "    \"\"\"\n",
    "    # Get the cumulative sum of the elements\n",
    "    cdf = histogram.cumsum()\n",
    " \n",
    "    # Normalize the cdf\n",
    "    normalized_cdf = cdf / float(cdf.max())\n",
    " \n",
    "    return normalized_cdf\n",
    " \n",
    "def calculate_lookup(new_cdf, ref_cdf):\n",
    "    \"\"\"\n",
    "    This method creates the lookup table\n",
    "    :param array new_cdf: The cdf for the source image\n",
    "    :param array ref_cdf: The cdf for the reference image\n",
    "    :return: lookup_table: The lookup table\n",
    "    :rtype: array\n",
    "    \"\"\"\n",
    "    lookup_table = np.zeros(256)\n",
    "    lookup_val = 0\n",
    "    for new_pixel_val in range(len(new_cdf)):\n",
    "        lookup_val\n",
    "        for ref_pixel_val in range(len(ref_cdf)):\n",
    "            if ref_cdf[ref_pixel_val] >= new_cdf[new_pixel_val]:\n",
    "                lookup_val = ref_pixel_val\n",
    "                break\n",
    "        lookup_table[new_pixel_val] = lookup_val\n",
    "    return lookup_table\n",
    "\n",
    "def match_histograms(ref_image, new_image):\n",
    "    \"\"\"\n",
    "    This method matches the new image histogram to the\n",
    "    reference signal\n",
    "    :param image new_image: The original source image\n",
    "    :param image  ref_image: The reference image\n",
    "    :return: image_after_matching\n",
    "    :rtype: image (array)\n",
    "    \"\"\"\n",
    "    # Split the images into the different color channels\n",
    "    # b means blue, g means green and r means red\n",
    "    new_b, new_g, new_r = cv2.split(new_image)\n",
    "    ref_b, ref_g, ref_r = cv2.split(ref_image)\n",
    " \n",
    "    # Compute the b, g, and r histograms separately\n",
    "    # The flatten() Numpy method returns a copy of the array c\n",
    "    # collapsed into one dimension.\n",
    "    new_hist_blue, bin_0 = np.histogram(new_b.flatten(), 256, [0,256])\n",
    "    new_hist_green, bin_1 = np.histogram(new_g.flatten(), 256, [0,256])\n",
    "    new_hist_red, bin_2 = np.histogram(new_r.flatten(), 256, [0,256])    \n",
    "    ref_hist_blue, bin_3 = np.histogram(ref_b.flatten(), 256, [0,256])    \n",
    "    ref_hist_green, bin_4 = np.histogram(ref_g.flatten(), 256, [0,256])\n",
    "    ref_hist_red, bin_5 = np.histogram(ref_r.flatten(), 256, [0,256])\n",
    " \n",
    "    # Compute the normalized cdf for the source and reference image\n",
    "    new_cdf_blue = calculate_cdf(new_hist_blue)\n",
    "    new_cdf_green = calculate_cdf(new_hist_green)\n",
    "    new_cdf_red = calculate_cdf(new_hist_red)\n",
    "    ref_cdf_blue = calculate_cdf(ref_hist_blue)\n",
    "    ref_cdf_green = calculate_cdf(ref_hist_green)\n",
    "    ref_cdf_red = calculate_cdf(ref_hist_red)\n",
    "\n",
    "    # Make a separate lookup table for each color\n",
    "    blue_lookup_table = calculate_lookup(new_cdf_blue, ref_cdf_blue)\n",
    "    green_lookup_table = calculate_lookup(new_cdf_green, ref_cdf_green)\n",
    "    red_lookup_table = calculate_lookup(new_cdf_red, ref_cdf_red)\n",
    " \n",
    "    # Use the lookup function to transform the colors of the original\n",
    "    # source image\n",
    "    blue_after_transform = cv2.LUT(new_b, blue_lookup_table)\n",
    "    green_after_transform = cv2.LUT(new_g, green_lookup_table)\n",
    "    red_after_transform = cv2.LUT(new_r, red_lookup_table)\n",
    " \n",
    "    # Put the image back together\n",
    "    image_after_matching = cv2.merge([blue_after_transform, green_after_transform, red_after_transform])\n",
    "    image_after_matching = cv2.convertScaleAbs(image_after_matching)\n",
    " \n",
    "    return image_after_matching"
   ]
  },
  {
   "cell_type": "markdown",
   "metadata": {},
   "source": [
    "# Load Data"
   ]
  },
  {
   "cell_type": "code",
   "execution_count": null,
   "metadata": {},
   "outputs": [],
   "source": [
    "mission_images_bgr = []\n",
    "grass_images_bgr = []\n",
    "building_images_bgr = []\n",
    "\n",
    "for mission_number in mission_numbers:\n",
    "    if not os.path.isdir('..\\\\missions\\\\mission_' + str(mission_number)):\n",
    "        print('[Error] Mission %d directory has not been created' % (mission_number))\n",
    "        break\n",
    "    \n",
    "    mission_image = get_global_image(mission_number)\n",
    "    mission_images_bgr.append(mission_image)\n",
    "    \n",
    "    grass_image, _ = get_region_and_sample_image(mission_number, 'GRASS')\n",
    "    grass_images_bgr.append(grass_image)\n",
    "    building_image, _ = get_region_and_sample_image(mission_number, 'BUILDING')\n",
    "    building_images_bgr.append(building_image)\n",
    "    \n",
    "# all lengths and dimensions should match\n",
    "print(mission_images_bgr[0].shape)\n",
    "print(grass_images_bgr[0].shape)\n",
    "print(building_images_bgr[0].shape)\n",
    "print(len(mission_images_bgr))\n",
    "print(len(grass_images_bgr))\n",
    "print(len(building_images_bgr))"
   ]
  },
  {
   "cell_type": "code",
   "execution_count": null,
   "metadata": {},
   "outputs": [],
   "source": [
    "if display_images:\n",
    "    plot_images(mission_images_bgr, ['mission_images_bgr ' + str(mission_number) for mission_number in mission_numbers])\n",
    "    plot_images(grass_images_bgr, ['grass_images_bgr ' + str(mission_number) for mission_number in mission_numbers])\n",
    "    plot_images(building_images_bgr, ['building_images_bgr ' + str(mission_number) for mission_number in mission_numbers])"
   ]
  },
  {
   "cell_type": "code",
   "execution_count": null,
   "metadata": {},
   "outputs": [],
   "source": [
    "histogram_mission_images_bgr = []\n",
    "histogram_grass_images_bgr = []\n",
    "histogram_building_images_bgr = []\n",
    "\n",
    "for i in range(0, len(mission_numbers)):\n",
    "    histogram_mission_images_bgr.append(match_histograms(mission_images_bgr[0], mission_images_bgr[i]))\n",
    "    histogram_grass_images_bgr.append(match_histograms(grass_images_bgr[0], grass_images_bgr[i]))\n",
    "    histogram_building_images_bgr.append(match_histograms(building_images_bgr[0], building_images_bgr[i]))"
   ]
  },
  {
   "cell_type": "code",
   "execution_count": null,
   "metadata": {},
   "outputs": [],
   "source": [
    "if display_images:\n",
    "    plot_images(histogram_mission_images_bgr, ['histogram_mission_images_bgr ' + str(mission_number) for mission_number in mission_numbers])\n",
    "    plot_images(histogram_grass_images_bgr, ['histogram_grass_images_bgr ' + str(mission_number) for mission_number in mission_numbers])\n",
    "    plot_images(histogram_building_images_bgr, ['histogram_building_images_bgr ' + str(mission_number) for mission_number in mission_numbers])"
   ]
  },
  {
   "cell_type": "markdown",
   "metadata": {},
   "source": [
    "### grass 6 is messed up"
   ]
  },
  {
   "cell_type": "code",
   "execution_count": null,
   "metadata": {},
   "outputs": [],
   "source": [
    "mission_images_hsv = [] # used for shadow detection\n",
    "histogram_mission_images_hsv = []\n",
    "histogram_grass_images_hsv = []\n",
    "histogram_building_images_hsv = []\n",
    "\n",
    "for i in range(0, len(mission_numbers)):\n",
    "    hsv = cv2.cvtColor(mission_images_bgr[i].copy(), cv2.COLOR_BGR2HSV)\n",
    "    mission_images_hsv.append(hsv)\n",
    "    \n",
    "    hsv = cv2.cvtColor(histogram_mission_images_bgr[i].copy(), cv2.COLOR_BGR2HSV)\n",
    "    histogram_mission_images_hsv.append(hsv)\n",
    "    \n",
    "    hsv = cv2.cvtColor(histogram_grass_images_bgr[i].copy(), cv2.COLOR_BGR2HSV)\n",
    "    histogram_grass_images_hsv.append(hsv)\n",
    "    \n",
    "    hsv = cv2.cvtColor(histogram_building_images_bgr[i].copy(), cv2.COLOR_BGR2HSV)\n",
    "    histogram_building_images_hsv.append(hsv)"
   ]
  },
  {
   "cell_type": "code",
   "execution_count": null,
   "metadata": {},
   "outputs": [],
   "source": [
    "if display_images:\n",
    "    plot_images(mission_images_hsv, ['mission_images_hsv ' + str(mission_number) for mission_number in mission_numbers])\n",
    "    plot_images(histogram_mission_images_hsv, ['histogram_mission_images_hsv ' + str(mission_number) for mission_number in mission_numbers])\n",
    "    plot_images(histogram_grass_images_hsv, ['histogram_grass_images_hsv ' + str(mission_number) for mission_number in mission_numbers])\n",
    "    plot_images(histogram_building_images_hsv, ['histogram_building_images_hsv ' + str(mission_number) for mission_number in mission_numbers])"
   ]
  },
  {
   "cell_type": "code",
   "execution_count": null,
   "metadata": {},
   "outputs": [],
   "source": []
  },
  {
   "cell_type": "markdown",
   "metadata": {},
   "source": [
    "# ^^^^ for all ^^^^"
   ]
  },
  {
   "cell_type": "code",
   "execution_count": null,
   "metadata": {},
   "outputs": [],
   "source": []
  },
  {
   "cell_type": "markdown",
   "metadata": {},
   "source": [
    "# Shadow"
   ]
  },
  {
   "cell_type": "code",
   "execution_count": null,
   "metadata": {},
   "outputs": [],
   "source": [
    "shadow_masks = []\n",
    "smoothed_shadow_masks = []\n",
    "\n",
    "for i in range(0, len(mission_numbers)):\n",
    "    lower_shadow = np.array([69, 20, 1])\n",
    "    upper_shadow = np.array([129, 102, 34])\n",
    "    mask = cv2.inRange(mission_images_hsv[i].copy(), lower_shadow, upper_shadow)\n",
    "    shadow_masks.append(mask)\n",
    "     \n",
    "    mask = copy.deepcopy(mask)\n",
    "    mask = area_opening(mask, area_threshold=50)\n",
    "    mask = cv2.dilate(mask, disk(radius=5), iterations=1)\n",
    "    smoothed_shadow_masks.append(mask)\n",
    "    \n",
    "complete_shadow_mask = np.zeros((smoothed_shadow_masks[0].shape)).astype(int)\n",
    "for i in range(0, len(shadow_masks)):\n",
    "    complete_shadow_mask = cv2.bitwise_or(complete_shadow_mask, smoothed_shadow_masks[i].astype(int))\n",
    "\n",
    "complete_shadow_mask = complete_shadow_mask.astype(np.uint8)"
   ]
  },
  {
   "cell_type": "code",
   "execution_count": null,
   "metadata": {},
   "outputs": [],
   "source": [
    "if display_images:\n",
    "    plot_images(shadow_masks, ['shadow_masks ' + str(mission_number) for mission_number in mission_numbers])\n",
    "    plot_images(smoothed_shadow_masks, ['smoothed_shadow_masks ' + str(mission_number) for mission_number in mission_numbers])\n",
    "    plot_images([complete_shadow_mask], ['complete_shadow_mask'], size_per_image=5)"
   ]
  },
  {
   "cell_type": "code",
   "execution_count": null,
   "metadata": {},
   "outputs": [],
   "source": [
    "modified_mission_images_bgr = []\n",
    "modified_mission_images_hsv = []\n",
    "\n",
    "for i in range(0, len(mission_numbers)):\n",
    "    modified_bgr = copy.deepcopy(histogram_mission_images_bgr[i])\n",
    "    modified_hsv = copy.deepcopy(histogram_mission_images_hsv[i])\n",
    "\n",
    "    try:\n",
    "        modified_bgr[complete_shadow_mask.astype(bool), :] = 0 # set to black\n",
    "        modified_hsv[complete_shadow_mask.astype(bool), :] = 0 # set to black\n",
    "    except ValueError:\n",
    "        print('not modified')\n",
    "    \n",
    "    modified_mission_images_bgr.append(modified_bgr)\n",
    "    modified_mission_images_hsv.append(modified_hsv)"
   ]
  },
  {
   "cell_type": "code",
   "execution_count": null,
   "metadata": {},
   "outputs": [],
   "source": [
    "if display_images:\n",
    "    plot_images(modified_mission_images_bgr, ['modified_mission_images_bgr ' + str(mission_number) for mission_number in mission_numbers])\n",
    "    plot_images(modified_mission_images_hsv, ['modified_mission_images_hsv ' + str(mission_number) for mission_number in mission_numbers])"
   ]
  },
  {
   "cell_type": "markdown",
   "metadata": {},
   "source": [
    "# Differencing"
   ]
  },
  {
   "cell_type": "code",
   "execution_count": null,
   "metadata": {},
   "outputs": [],
   "source": [
    "box_w = 100\n",
    "box_y = 123\n",
    "\n",
    "x_lim = np.array([0, int((255-box_w)/2), 255 - int((255-box_w)/2), 255])\n",
    "y_lim = np.array([0,  box_y, box_y, 255])\n",
    "z = np.polyfit(x_lim, y_lim, 5)\n",
    "\n",
    "nonlinear_poly = np.poly1d(z)\n",
    "\n",
    "xp = np.linspace(0, 255, 256)\n",
    "yp = nonlinear_poly(xp)\n",
    "\n",
    "xp_adj = np.linspace(0, 255, 256)\n",
    "yp_adj = nonlinear_poly(xp_adj)\n",
    "mask = [num >= x_lim[1] and num <= x_lim[2] for num in xp_adj]\n",
    "yp_adj[mask] = box_y"
   ]
  },
  {
   "cell_type": "code",
   "execution_count": null,
   "metadata": {},
   "outputs": [],
   "source": [
    "if display_images:\n",
    "    plt.plot(x_lim, y_lim, 'k', xp, yp, 'r', xp, yp_adj, 'b')"
   ]
  },
  {
   "cell_type": "code",
   "execution_count": null,
   "metadata": {},
   "outputs": [],
   "source": [
    "def detection_methods(img1, img2):\n",
    "    img1 = copy.deepcopy(img1[:, :, 0]) # using HSV channel\n",
    "    img2 = copy.deepcopy(img2[:, :, 0])\n",
    "\n",
    "    img1 = img1.astype(np.int16) # SUPER IMPORTANT - convert to int16 (or higher but necessary) to so that \"result\" array can preserve greater than +-255\n",
    "    img2 = img2.astype(np.int16)\n",
    "    \n",
    "    result = img1 - img2\n",
    "\n",
    "    result += 255 # max difference is 255 or -255, add 255 to bring everything positive\n",
    "\n",
    "    result = (result-np.min(result))*(255/(np.max(result) - np.min(result))) # linear 0-255 scaling\n",
    "\n",
    "    xp_adj = copy.deepcopy(result)\n",
    "    yp_adj = nonlinear_poly(xp_adj) # nonlinear 0-255 scaling\n",
    "\n",
    "    mask = cv2.inRange(xp_adj.copy(), np.array([x_lim[1]]).astype(np.uint8), np.array([x_lim[2]]).astype(np.uint8)).astype(bool)\n",
    "\n",
    "    result[mask] = box_y\n",
    "        \n",
    "    result = result.astype(np.uint8) # convert back to uint8 to be displayed\n",
    "    \n",
    "    return result"
   ]
  },
  {
   "cell_type": "code",
   "execution_count": null,
   "metadata": {},
   "outputs": [],
   "source": [
    "# using modified_mission_images_hsv[0]\n",
    "\n",
    "adjacent_regions_change_hsv = []\n",
    "\n",
    "for i in range(0, len(mission_numbers)):\n",
    "    adjacent_regions_change_hsv.append(detection_methods(modified_mission_images_hsv[0], modified_mission_images_hsv[i]))\n",
    "    \n",
    "masks = []\n",
    "clean_masks_1 = []\n",
    "clean_masks_final = []\n",
    "\n",
    "for i in range(0, len(adjacent_regions_change_hsv)):\n",
    "    mask = np.bitwise_not(cv2.inRange(adjacent_regions_change_hsv[i].copy(), np.array([box_y - 5]).astype(np.uint8), np.array([box_y + 5]).astype(np.uint8)).astype(bool))\n",
    "    temp = np.zeros((mask.shape)).astype(np.uint8)\n",
    "    temp[mask] = 255\n",
    "    masks.append(temp)\n",
    "    \n",
    "    mask = cv2.erode(masks[i], square(width=2), iterations=1) # get rid of small stuff\n",
    "    clean_masks_1.append(mask)\n",
    "    mask = cv2.dilate(mask, disk(radius=5), iterations=1)\n",
    "    clean_masks_final.append(mask)"
   ]
  },
  {
   "cell_type": "code",
   "execution_count": null,
   "metadata": {},
   "outputs": [],
   "source": [
    "if display_images:\n",
    "    plot_images(adjacent_regions_change_hsv, ['adjacent_regions_change_hsv ' + str(mission_number) for mission_number in mission_numbers])\n",
    "    plot_images(masks, ['masks ' +  str(mission_number) for mission_number in mission_numbers])\n",
    "    plot_images(clean_masks_1, ['clean_masks_1' + str(mission_number) for mission_number in mission_numbers])\n",
    "    plot_images(clean_masks_final, ['clean_masks_final ' + str(mission_number) for mission_number in mission_numbers])"
   ]
  },
  {
   "cell_type": "code",
   "execution_count": null,
   "metadata": {
    "scrolled": false
   },
   "outputs": [],
   "source": [
    "bbox_masks, num_bboxs, superimposed_images = create_bounding_boxes(clean_masks_final, histogram_mission_images_bgr, display_bbox=True, display_output=True, num_bbox_iterations=1, bbox_color=BBOX_COLOR)"
   ]
  },
  {
   "cell_type": "markdown",
   "metadata": {},
   "source": [
    "### as final output return bbox_masks. these will be superimposed on other bbox_masks, bbox x, y, w, h"
   ]
  }
 ],
 "metadata": {
  "kernelspec": {
   "display_name": "Python 3",
   "language": "python",
   "name": "python3"
  },
  "language_info": {
   "codemirror_mode": {
    "name": "ipython",
    "version": 3
   },
   "file_extension": ".py",
   "mimetype": "text/x-python",
   "name": "python",
   "nbconvert_exporter": "python",
   "pygments_lexer": "ipython3",
   "version": "3.6.8"
  }
 },
 "nbformat": 4,
 "nbformat_minor": 2
}
